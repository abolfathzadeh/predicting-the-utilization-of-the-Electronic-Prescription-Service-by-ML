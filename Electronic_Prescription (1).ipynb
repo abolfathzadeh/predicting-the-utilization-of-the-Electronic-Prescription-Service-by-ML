{
 "cells": [
  {
   "cell_type": "code",
   "execution_count": 1,
   "metadata": {
    "id": "Vk8AFIBd7u0O"
   },
   "outputs": [],
   "source": [
    "# Import necessary libraries\n",
    "\n",
    "import pandas as pd\n",
    "import numpy as np"
   ]
  },
  {
   "cell_type": "code",
   "execution_count": 33,
   "metadata": {},
   "outputs": [],
   "source": [
    "import warnings\n",
    "warnings.filterwarnings('ignore')"
   ]
  },
  {
   "cell_type": "code",
   "execution_count": 2,
   "metadata": {
    "id": "GBjKvz34Fr9Y"
   },
   "outputs": [],
   "source": [
    "# Read the data into a pandas DataFrame\n",
    "\n",
    "df = pd.read_csv(r\"C:\\Uni_doc\\eRD+data+October+2022.csv\")"
   ]
  },
  {
   "cell_type": "code",
   "execution_count": 3,
   "metadata": {
    "colab": {
     "base_uri": "https://localhost:8080/",
     "height": 563
    },
    "id": "dROb5_TOG9gn",
    "outputId": "47a43eb8-547a-4619-f4fc-44b61aaa9924"
   },
   "outputs": [
    {
     "data": {
      "text/html": [
       "<div>\n",
       "<style scoped>\n",
       "    .dataframe tbody tr th:only-of-type {\n",
       "        vertical-align: middle;\n",
       "    }\n",
       "\n",
       "    .dataframe tbody tr th {\n",
       "        vertical-align: top;\n",
       "    }\n",
       "\n",
       "    .dataframe thead th {\n",
       "        text-align: right;\n",
       "    }\n",
       "</style>\n",
       "<table border=\"1\" class=\"dataframe\">\n",
       "  <thead>\n",
       "    <tr style=\"text-align: right;\">\n",
       "      <th></th>\n",
       "      <th>Region</th>\n",
       "      <th>Place Code</th>\n",
       "      <th>Place</th>\n",
       "      <th>ODS Code</th>\n",
       "      <th>GP Practice (ODS Code)</th>\n",
       "      <th>Registered Patients</th>\n",
       "      <th>% of patients with a nomination</th>\n",
       "      <th>EPS Items</th>\n",
       "      <th>eRD Items</th>\n",
       "      <th>All Items</th>\n",
       "      <th>EPS Utilisation</th>\n",
       "      <th>eRD Utilisation (EPS Items)</th>\n",
       "      <th>eRD Utilisation (All Items)</th>\n",
       "    </tr>\n",
       "  </thead>\n",
       "  <tbody>\n",
       "    <tr>\n",
       "      <th>0</th>\n",
       "      <td>North East and Yorkshire</td>\n",
       "      <td>16C</td>\n",
       "      <td>Tees Valley</td>\n",
       "      <td>A81001</td>\n",
       "      <td>The Densham Surgery (A81001)</td>\n",
       "      <td>4019.0</td>\n",
       "      <td>81.7%</td>\n",
       "      <td>8120</td>\n",
       "      <td>607</td>\n",
       "      <td>8172</td>\n",
       "      <td>99.4%</td>\n",
       "      <td>7.5%</td>\n",
       "      <td>7.4%</td>\n",
       "    </tr>\n",
       "    <tr>\n",
       "      <th>1</th>\n",
       "      <td>North East and Yorkshire</td>\n",
       "      <td>16C</td>\n",
       "      <td>Tees Valley</td>\n",
       "      <td>A81002</td>\n",
       "      <td>Queens Park Medical Centre (A81002)</td>\n",
       "      <td>18288.0</td>\n",
       "      <td>86.3%</td>\n",
       "      <td>37318</td>\n",
       "      <td>10937</td>\n",
       "      <td>37357</td>\n",
       "      <td>99.9%</td>\n",
       "      <td>29.3%</td>\n",
       "      <td>29.3%</td>\n",
       "    </tr>\n",
       "    <tr>\n",
       "      <th>2</th>\n",
       "      <td>North East and Yorkshire</td>\n",
       "      <td>16C</td>\n",
       "      <td>Tees Valley</td>\n",
       "      <td>A81004</td>\n",
       "      <td>Acklam Medical Centre (A81004)</td>\n",
       "      <td>11209.0</td>\n",
       "      <td>81.4%</td>\n",
       "      <td>18558</td>\n",
       "      <td>7163</td>\n",
       "      <td>18561</td>\n",
       "      <td>100.0%</td>\n",
       "      <td>38.6%</td>\n",
       "      <td>38.6%</td>\n",
       "    </tr>\n",
       "    <tr>\n",
       "      <th>3</th>\n",
       "      <td>North East and Yorkshire</td>\n",
       "      <td>16C</td>\n",
       "      <td>Tees Valley</td>\n",
       "      <td>A81005</td>\n",
       "      <td>Springwood Surgery (A81005)</td>\n",
       "      <td>8032.0</td>\n",
       "      <td>83.5%</td>\n",
       "      <td>16682</td>\n",
       "      <td>7561</td>\n",
       "      <td>16727</td>\n",
       "      <td>99.7%</td>\n",
       "      <td>45.3%</td>\n",
       "      <td>45.2%</td>\n",
       "    </tr>\n",
       "    <tr>\n",
       "      <th>4</th>\n",
       "      <td>North East and Yorkshire</td>\n",
       "      <td>16C</td>\n",
       "      <td>Tees Valley</td>\n",
       "      <td>A81006</td>\n",
       "      <td>Tennant Street Medical Practice (A81006)</td>\n",
       "      <td>14407.0</td>\n",
       "      <td>81.9%</td>\n",
       "      <td>30425</td>\n",
       "      <td>3378</td>\n",
       "      <td>30442</td>\n",
       "      <td>99.9%</td>\n",
       "      <td>11.1%</td>\n",
       "      <td>11.1%</td>\n",
       "    </tr>\n",
       "  </tbody>\n",
       "</table>\n",
       "</div>"
      ],
      "text/plain": [
       "                     Region Place Code        Place ODS Code  \\\n",
       "0  North East and Yorkshire        16C  Tees Valley   A81001   \n",
       "1  North East and Yorkshire        16C  Tees Valley   A81002   \n",
       "2  North East and Yorkshire        16C  Tees Valley   A81004   \n",
       "3  North East and Yorkshire        16C  Tees Valley   A81005   \n",
       "4  North East and Yorkshire        16C  Tees Valley   A81006   \n",
       "\n",
       "                     GP Practice (ODS Code)  Registered Patients  \\\n",
       "0              The Densham Surgery (A81001)               4019.0   \n",
       "1       Queens Park Medical Centre (A81002)              18288.0   \n",
       "2            Acklam Medical Centre (A81004)              11209.0   \n",
       "3               Springwood Surgery (A81005)               8032.0   \n",
       "4  Tennant Street Medical Practice (A81006)              14407.0   \n",
       "\n",
       "  % of patients with a nomination  EPS Items  eRD Items  All Items  \\\n",
       "0                           81.7%       8120        607       8172   \n",
       "1                           86.3%      37318      10937      37357   \n",
       "2                           81.4%      18558       7163      18561   \n",
       "3                           83.5%      16682       7561      16727   \n",
       "4                           81.9%      30425       3378      30442   \n",
       "\n",
       "  EPS Utilisation eRD Utilisation (EPS Items) eRD Utilisation (All Items)  \n",
       "0           99.4%                        7.5%                        7.4%  \n",
       "1           99.9%                       29.3%                       29.3%  \n",
       "2          100.0%                       38.6%                       38.6%  \n",
       "3           99.7%                       45.3%                       45.2%  \n",
       "4           99.9%                       11.1%                       11.1%  "
      ]
     },
     "execution_count": 3,
     "metadata": {},
     "output_type": "execute_result"
    }
   ],
   "source": [
    "df.head()"
   ]
  },
  {
   "cell_type": "code",
   "execution_count": 4,
   "metadata": {
    "colab": {
     "base_uri": "https://localhost:8080/"
    },
    "id": "1Op2GAWCHIdQ",
    "outputId": "98a01dc0-407c-4500-e77b-53aa60568a8b"
   },
   "outputs": [
    {
     "data": {
      "text/plain": [
       "(6498, 13)"
      ]
     },
     "execution_count": 4,
     "metadata": {},
     "output_type": "execute_result"
    }
   ],
   "source": [
    "#Check the dimensions of the data\n",
    "\n",
    "df.shape"
   ]
  },
  {
   "cell_type": "code",
   "execution_count": 5,
   "metadata": {
    "colab": {
     "base_uri": "https://localhost:8080/"
    },
    "id": "VNrMH9KDJKQ2",
    "outputId": "8c92f58c-bbcf-46ce-c05a-fed998f484fa"
   },
   "outputs": [
    {
     "name": "stdout",
     "output_type": "stream",
     "text": [
      "Region                               0\n",
      "Place Code                           0\n",
      "Place                                0\n",
      "ODS Code                             0\n",
      "GP Practice (ODS Code)               0\n",
      "Registered Patients                 76\n",
      "% of patients with a nomination    101\n",
      "EPS Items                            0\n",
      "eRD Items                            0\n",
      "All Items                            0\n",
      "EPS Utilisation                      0\n",
      "eRD Utilisation (EPS Items)        149\n",
      "eRD Utilisation (All Items)          0\n",
      "dtype: int64\n"
     ]
    }
   ],
   "source": [
    "# Check for missing values\n",
    "\n",
    "print(df.isnull().sum())\n"
   ]
  },
  {
   "cell_type": "code",
   "execution_count": 6,
   "metadata": {
    "id": "TQccyx49JVVX"
   },
   "outputs": [],
   "source": [
    "# Handle missing values \n",
    "\n",
    "df = df.fillna(0)"
   ]
  },
  {
   "cell_type": "code",
   "execution_count": 7,
   "metadata": {
    "colab": {
     "base_uri": "https://localhost:8080/"
    },
    "id": "2AGnZNLwJmKo",
    "outputId": "f37866cb-7cc2-4fe7-9b03-6cff71ff4bf5"
   },
   "outputs": [
    {
     "data": {
      "text/plain": [
       "Region                             0\n",
       "Place Code                         0\n",
       "Place                              0\n",
       "ODS Code                           0\n",
       "GP Practice (ODS Code)             0\n",
       "Registered Patients                0\n",
       "% of patients with a nomination    0\n",
       "EPS Items                          0\n",
       "eRD Items                          0\n",
       "All Items                          0\n",
       "EPS Utilisation                    0\n",
       "eRD Utilisation (EPS Items)        0\n",
       "eRD Utilisation (All Items)        0\n",
       "dtype: int64"
      ]
     },
     "execution_count": 7,
     "metadata": {},
     "output_type": "execute_result"
    }
   ],
   "source": [
    "df.isnull().sum()"
   ]
  },
  {
   "cell_type": "code",
   "execution_count": 8,
   "metadata": {
    "colab": {
     "base_uri": "https://localhost:8080/"
    },
    "id": "7EYNN0agJrHG",
    "outputId": "309dc80e-8f69-402d-aa51-8f32903f968c"
   },
   "outputs": [
    {
     "name": "stdout",
     "output_type": "stream",
     "text": [
      "Region                              object\n",
      "Place Code                          object\n",
      "Place                               object\n",
      "ODS Code                            object\n",
      "GP Practice (ODS Code)              object\n",
      "Registered Patients                float64\n",
      "% of patients with a nomination     object\n",
      "EPS Items                            int64\n",
      "eRD Items                            int64\n",
      "All Items                            int64\n",
      "EPS Utilisation                     object\n",
      "eRD Utilisation (EPS Items)         object\n",
      "eRD Utilisation (All Items)         object\n",
      "dtype: object\n"
     ]
    }
   ],
   "source": [
    "# Check the data types of each column\n",
    "\n",
    "print(df.dtypes)"
   ]
  },
  {
   "cell_type": "code",
   "execution_count": 9,
   "metadata": {
    "id": "l9Kg0H-ONG4t"
   },
   "outputs": [],
   "source": [
    "# Convert 'Registered Patients' from float to integer\n",
    "df['Registered Patients'] = df['Registered Patients'].astype(int)\n",
    "\n",
    "# Convert '% of patients with a nomination' from object to float with 2 decimal places\n",
    "df['% of patients with a nomination'] = df['% of patients with a nomination'].str.rstrip('%').astype('float') / 100.0\n",
    "\n",
    "# Convert 'EPS Utilisation' from object to float with 2 decimal places\n",
    "df['EPS Utilisation'] = df['EPS Utilisation'].str.rstrip('%').astype('float') / 100.0\n",
    "\n",
    "# Convert 'eRD Utilisation (EPS Items)' from object to float with 2 decimal places\n",
    "df['eRD Utilisation (EPS Items)'] = df['eRD Utilisation (EPS Items)'].str.rstrip('%').astype('float') / 100.0\n",
    "\n",
    "# Convert 'eRD Utilisation (All Items)' from object to float with 2 decimal places\n",
    "df['eRD Utilisation (All Items)'] = df['eRD Utilisation (All Items)'].str.rstrip('%').astype('float') / 100.0"
   ]
  },
  {
   "cell_type": "code",
   "execution_count": 10,
   "metadata": {
    "colab": {
     "base_uri": "https://localhost:8080/"
    },
    "id": "YlzCD_DUNQMf",
    "outputId": "bb5b51cd-64db-44e7-98fe-d03754fa6a6c"
   },
   "outputs": [
    {
     "data": {
      "text/plain": [
       "Region                              object\n",
       "Place Code                          object\n",
       "Place                               object\n",
       "ODS Code                            object\n",
       "GP Practice (ODS Code)              object\n",
       "Registered Patients                  int32\n",
       "% of patients with a nomination    float64\n",
       "EPS Items                            int64\n",
       "eRD Items                            int64\n",
       "All Items                            int64\n",
       "EPS Utilisation                    float64\n",
       "eRD Utilisation (EPS Items)        float64\n",
       "eRD Utilisation (All Items)        float64\n",
       "dtype: object"
      ]
     },
     "execution_count": 10,
     "metadata": {},
     "output_type": "execute_result"
    }
   ],
   "source": [
    "df.dtypes"
   ]
  },
  {
   "cell_type": "code",
   "execution_count": 11,
   "metadata": {
    "colab": {
     "base_uri": "https://localhost:8080/",
     "height": 379
    },
    "id": "4CDh3fvuNvr2",
    "outputId": "df7da5d2-a04a-4e9a-d461-71f6a0b54ff6"
   },
   "outputs": [
    {
     "data": {
      "text/html": [
       "<div>\n",
       "<style scoped>\n",
       "    .dataframe tbody tr th:only-of-type {\n",
       "        vertical-align: middle;\n",
       "    }\n",
       "\n",
       "    .dataframe tbody tr th {\n",
       "        vertical-align: top;\n",
       "    }\n",
       "\n",
       "    .dataframe thead th {\n",
       "        text-align: right;\n",
       "    }\n",
       "</style>\n",
       "<table border=\"1\" class=\"dataframe\">\n",
       "  <thead>\n",
       "    <tr style=\"text-align: right;\">\n",
       "      <th></th>\n",
       "      <th>Registered Patients</th>\n",
       "      <th>% of patients with a nomination</th>\n",
       "      <th>EPS Items</th>\n",
       "      <th>eRD Items</th>\n",
       "      <th>All Items</th>\n",
       "      <th>EPS Utilisation</th>\n",
       "      <th>eRD Utilisation (EPS Items)</th>\n",
       "      <th>eRD Utilisation (All Items)</th>\n",
       "    </tr>\n",
       "  </thead>\n",
       "  <tbody>\n",
       "    <tr>\n",
       "      <th>count</th>\n",
       "      <td>6498.000000</td>\n",
       "      <td>6397.000000</td>\n",
       "      <td>6498.000000</td>\n",
       "      <td>6498.000000</td>\n",
       "      <td>6498.000000</td>\n",
       "      <td>6498.000000</td>\n",
       "      <td>6349.000000</td>\n",
       "      <td>6498.000000</td>\n",
       "    </tr>\n",
       "    <tr>\n",
       "      <th>mean</th>\n",
       "      <td>9578.483687</td>\n",
       "      <td>0.721964</td>\n",
       "      <td>13164.658510</td>\n",
       "      <td>1983.329794</td>\n",
       "      <td>14402.142659</td>\n",
       "      <td>0.917178</td>\n",
       "      <td>0.145558</td>\n",
       "      <td>0.137239</td>\n",
       "    </tr>\n",
       "    <tr>\n",
       "      <th>std</th>\n",
       "      <td>6665.390940</td>\n",
       "      <td>0.153269</td>\n",
       "      <td>10146.726651</td>\n",
       "      <td>3135.090190</td>\n",
       "      <td>10407.910737</td>\n",
       "      <td>0.375298</td>\n",
       "      <td>0.167108</td>\n",
       "      <td>0.162945</td>\n",
       "    </tr>\n",
       "    <tr>\n",
       "      <th>min</th>\n",
       "      <td>0.000000</td>\n",
       "      <td>0.000000</td>\n",
       "      <td>0.000000</td>\n",
       "      <td>0.000000</td>\n",
       "      <td>1.000000</td>\n",
       "      <td>0.000000</td>\n",
       "      <td>0.000000</td>\n",
       "      <td>0.000000</td>\n",
       "    </tr>\n",
       "    <tr>\n",
       "      <th>25%</th>\n",
       "      <td>5372.500000</td>\n",
       "      <td>0.680000</td>\n",
       "      <td>6569.500000</td>\n",
       "      <td>24.000000</td>\n",
       "      <td>7494.500000</td>\n",
       "      <td>0.964000</td>\n",
       "      <td>0.004000</td>\n",
       "      <td>0.002000</td>\n",
       "    </tr>\n",
       "    <tr>\n",
       "      <th>50%</th>\n",
       "      <td>8276.000000</td>\n",
       "      <td>0.764000</td>\n",
       "      <td>11157.500000</td>\n",
       "      <td>652.500000</td>\n",
       "      <td>12128.500000</td>\n",
       "      <td>0.987000</td>\n",
       "      <td>0.070000</td>\n",
       "      <td>0.059500</td>\n",
       "    </tr>\n",
       "    <tr>\n",
       "      <th>75%</th>\n",
       "      <td>12094.000000</td>\n",
       "      <td>0.812000</td>\n",
       "      <td>17265.250000</td>\n",
       "      <td>2841.750000</td>\n",
       "      <td>18495.500000</td>\n",
       "      <td>0.995000</td>\n",
       "      <td>0.265000</td>\n",
       "      <td>0.250000</td>\n",
       "    </tr>\n",
       "    <tr>\n",
       "      <th>max</th>\n",
       "      <td>109562.000000</td>\n",
       "      <td>1.200000</td>\n",
       "      <td>146061.000000</td>\n",
       "      <td>42216.000000</td>\n",
       "      <td>148678.000000</td>\n",
       "      <td>26.000000</td>\n",
       "      <td>1.000000</td>\n",
       "      <td>0.973000</td>\n",
       "    </tr>\n",
       "  </tbody>\n",
       "</table>\n",
       "</div>"
      ],
      "text/plain": [
       "       Registered Patients  % of patients with a nomination      EPS Items  \\\n",
       "count          6498.000000                      6397.000000    6498.000000   \n",
       "mean           9578.483687                         0.721964   13164.658510   \n",
       "std            6665.390940                         0.153269   10146.726651   \n",
       "min               0.000000                         0.000000       0.000000   \n",
       "25%            5372.500000                         0.680000    6569.500000   \n",
       "50%            8276.000000                         0.764000   11157.500000   \n",
       "75%           12094.000000                         0.812000   17265.250000   \n",
       "max          109562.000000                         1.200000  146061.000000   \n",
       "\n",
       "          eRD Items      All Items  EPS Utilisation  \\\n",
       "count   6498.000000    6498.000000      6498.000000   \n",
       "mean    1983.329794   14402.142659         0.917178   \n",
       "std     3135.090190   10407.910737         0.375298   \n",
       "min        0.000000       1.000000         0.000000   \n",
       "25%       24.000000    7494.500000         0.964000   \n",
       "50%      652.500000   12128.500000         0.987000   \n",
       "75%     2841.750000   18495.500000         0.995000   \n",
       "max    42216.000000  148678.000000        26.000000   \n",
       "\n",
       "       eRD Utilisation (EPS Items)  eRD Utilisation (All Items)  \n",
       "count                  6349.000000                  6498.000000  \n",
       "mean                      0.145558                     0.137239  \n",
       "std                       0.167108                     0.162945  \n",
       "min                       0.000000                     0.000000  \n",
       "25%                       0.004000                     0.002000  \n",
       "50%                       0.070000                     0.059500  \n",
       "75%                       0.265000                     0.250000  \n",
       "max                       1.000000                     0.973000  "
      ]
     },
     "execution_count": 11,
     "metadata": {},
     "output_type": "execute_result"
    }
   ],
   "source": [
    "# Check the summary statistics of the data\n",
    "\n",
    "df.describe()"
   ]
  },
  {
   "cell_type": "code",
   "execution_count": 12,
   "metadata": {
    "colab": {
     "base_uri": "https://localhost:8080/"
    },
    "id": "AxgNgjt8N0ZW",
    "outputId": "d2b96c60-16c7-4d28-8201-9c20f9344a7d"
   },
   "outputs": [
    {
     "data": {
      "text/plain": [
       "0"
      ]
     },
     "execution_count": 12,
     "metadata": {},
     "output_type": "execute_result"
    }
   ],
   "source": [
    "# Check for duplicate rows\n",
    "\n",
    "df.duplicated().sum()"
   ]
  },
  {
   "cell_type": "code",
   "execution_count": 13,
   "metadata": {
    "colab": {
     "base_uri": "https://localhost:8080/"
    },
    "id": "CMyxiNRaN_Nm",
    "outputId": "7b76c1d9-c794-49e5-e02c-f7fb2530c955"
   },
   "outputs": [
    {
     "name": "stdout",
     "output_type": "stream",
     "text": [
      "(6498, 13)\n"
     ]
    }
   ],
   "source": [
    "# Check the final shape of the data\n",
    "\n",
    "print(df.shape)"
   ]
  },
  {
   "cell_type": "code",
   "execution_count": 54,
   "metadata": {
    "id": "II6ZNrU4OaCL"
   },
   "outputs": [],
   "source": [
    "# Save the cleaned data to a new csv file\n",
    "\n",
    "df.to_csv(r\"C:\\Uni_doc\\IEEE\\Author\\paper35\\cleaned_electronic_prescription.csv\", index=False)\n"
   ]
  },
  {
   "cell_type": "code",
   "execution_count": 55,
   "metadata": {
    "id": "7NOtfvSmVaSp"
   },
   "outputs": [],
   "source": [
    "# Load the cleaned_electronic_prescription dataset\n",
    "\n",
    "df = pd.read_csv(r\"C:\\Uni_doc\\IEEE\\Author\\paper35\\cleaned_electronic_prescription.csv\")"
   ]
  },
  {
   "cell_type": "code",
   "execution_count": 56,
   "metadata": {
    "colab": {
     "base_uri": "https://localhost:8080/"
    },
    "id": "LR8ov9TTsM1U",
    "outputId": "aaabd753-7741-41ab-f88d-e55ecfdb4856"
   },
   "outputs": [
    {
     "name": "stdout",
     "output_type": "stream",
     "text": [
      "Mean of '% of patients with a nomination': 0.7219638893231184\n"
     ]
    }
   ],
   "source": [
    "# Calculate the mean of the '% of patients with a nomination' column\n",
    "mean_nomination = df['% of patients with a nomination'].mean()\n",
    "\n",
    "# Print the mean\n",
    "print(\"Mean of '% of patients with a nomination':\", mean_nomination)"
   ]
  },
  {
   "cell_type": "code",
   "execution_count": 57,
   "metadata": {
    "colab": {
     "base_uri": "https://localhost:8080/",
     "height": 424
    },
    "id": "zqvAZCKQsbyd",
    "outputId": "e10c386c-647d-440e-cee9-b5c7d8a84f49"
   },
   "outputs": [
    {
     "data": {
      "text/html": [
       "<div>\n",
       "<style scoped>\n",
       "    .dataframe tbody tr th:only-of-type {\n",
       "        vertical-align: middle;\n",
       "    }\n",
       "\n",
       "    .dataframe tbody tr th {\n",
       "        vertical-align: top;\n",
       "    }\n",
       "\n",
       "    .dataframe thead th {\n",
       "        text-align: right;\n",
       "    }\n",
       "</style>\n",
       "<table border=\"1\" class=\"dataframe\">\n",
       "  <thead>\n",
       "    <tr style=\"text-align: right;\">\n",
       "      <th></th>\n",
       "      <th>ODS Code</th>\n",
       "      <th>Region</th>\n",
       "      <th>Place Code</th>\n",
       "      <th>Place</th>\n",
       "      <th>% of patients with a nomination</th>\n",
       "    </tr>\n",
       "  </thead>\n",
       "  <tbody>\n",
       "    <tr>\n",
       "      <th>11</th>\n",
       "      <td>A81016</td>\n",
       "      <td>North East and Yorkshire</td>\n",
       "      <td>16C</td>\n",
       "      <td>Tees Valley</td>\n",
       "      <td>0.714</td>\n",
       "    </tr>\n",
       "    <tr>\n",
       "      <th>18</th>\n",
       "      <td>A81023</td>\n",
       "      <td>North East and Yorkshire</td>\n",
       "      <td>16C</td>\n",
       "      <td>Tees Valley</td>\n",
       "      <td>0.635</td>\n",
       "    </tr>\n",
       "    <tr>\n",
       "      <th>22</th>\n",
       "      <td>A81029</td>\n",
       "      <td>North East and Yorkshire</td>\n",
       "      <td>16C</td>\n",
       "      <td>Tees Valley</td>\n",
       "      <td>0.615</td>\n",
       "    </tr>\n",
       "    <tr>\n",
       "      <th>27</th>\n",
       "      <td>A81035</td>\n",
       "      <td>North East and Yorkshire</td>\n",
       "      <td>16C</td>\n",
       "      <td>Tees Valley</td>\n",
       "      <td>0.692</td>\n",
       "    </tr>\n",
       "    <tr>\n",
       "      <th>29</th>\n",
       "      <td>A81037</td>\n",
       "      <td>North East and Yorkshire</td>\n",
       "      <td>16C</td>\n",
       "      <td>Tees Valley</td>\n",
       "      <td>0.678</td>\n",
       "    </tr>\n",
       "    <tr>\n",
       "      <th>...</th>\n",
       "      <td>...</td>\n",
       "      <td>...</td>\n",
       "      <td>...</td>\n",
       "      <td>...</td>\n",
       "      <td>...</td>\n",
       "    </tr>\n",
       "    <tr>\n",
       "      <th>6452</th>\n",
       "      <td>Y05330</td>\n",
       "      <td>London</td>\n",
       "      <td>93C</td>\n",
       "      <td>North Central London</td>\n",
       "      <td>0.609</td>\n",
       "    </tr>\n",
       "    <tr>\n",
       "      <th>6454</th>\n",
       "      <td>Y05349</td>\n",
       "      <td>North East and Yorkshire</td>\n",
       "      <td>03N</td>\n",
       "      <td>Sheffield</td>\n",
       "      <td>0.495</td>\n",
       "    </tr>\n",
       "    <tr>\n",
       "      <th>6458</th>\n",
       "      <td>Y05412</td>\n",
       "      <td>Midlands</td>\n",
       "      <td>03W</td>\n",
       "      <td>East Leicestershire &amp; Rutland</td>\n",
       "      <td>0.531</td>\n",
       "    </tr>\n",
       "    <tr>\n",
       "      <th>6462</th>\n",
       "      <td>Y05750</td>\n",
       "      <td>North West</td>\n",
       "      <td>27D</td>\n",
       "      <td>Cheshire</td>\n",
       "      <td>0.215</td>\n",
       "    </tr>\n",
       "    <tr>\n",
       "      <th>6463</th>\n",
       "      <td>Y05826</td>\n",
       "      <td>Midlands</td>\n",
       "      <td>15E</td>\n",
       "      <td>Birmingham &amp; Solihull</td>\n",
       "      <td>0.699</td>\n",
       "    </tr>\n",
       "  </tbody>\n",
       "</table>\n",
       "<p>2224 rows × 5 columns</p>\n",
       "</div>"
      ],
      "text/plain": [
       "     ODS Code                    Region Place Code  \\\n",
       "11     A81016  North East and Yorkshire        16C   \n",
       "18     A81023  North East and Yorkshire        16C   \n",
       "22     A81029  North East and Yorkshire        16C   \n",
       "27     A81035  North East and Yorkshire        16C   \n",
       "29     A81037  North East and Yorkshire        16C   \n",
       "...       ...                       ...        ...   \n",
       "6452   Y05330                    London        93C   \n",
       "6454   Y05349  North East and Yorkshire        03N   \n",
       "6458   Y05412                  Midlands        03W   \n",
       "6462   Y05750                North West        27D   \n",
       "6463   Y05826                  Midlands        15E   \n",
       "\n",
       "                              Place  % of patients with a nomination  \n",
       "11                      Tees Valley                            0.714  \n",
       "18                      Tees Valley                            0.635  \n",
       "22                      Tees Valley                            0.615  \n",
       "27                      Tees Valley                            0.692  \n",
       "29                      Tees Valley                            0.678  \n",
       "...                             ...                              ...  \n",
       "6452           North Central London                            0.609  \n",
       "6454                      Sheffield                            0.495  \n",
       "6458  East Leicestershire & Rutland                            0.531  \n",
       "6462                       Cheshire                            0.215  \n",
       "6463          Birmingham & Solihull                            0.699  \n",
       "\n",
       "[2224 rows x 5 columns]"
      ]
     },
     "execution_count": 57,
     "metadata": {},
     "output_type": "execute_result"
    }
   ],
   "source": [
    "# Create a new dataframe with only the providers with '% of patients with a nomination' less than mean\n",
    "providers_less_than_mean = df[df['% of patients with a nomination'] < mean_nomination]\n",
    "\n",
    "# Print the providers with '% of patients with a nomination' less than mean\n",
    "\"Providers with '% of patients with a nomination' less than mean:\"\n",
    "providers_less_than_mean[['ODS Code', 'Region', 'Place Code', 'Place', '% of patients with a nomination']]"
   ]
  },
  {
   "cell_type": "code",
   "execution_count": 58,
   "metadata": {
    "colab": {
     "base_uri": "https://localhost:8080/"
    },
    "id": "9HMgE7FvtFGH",
    "outputId": "224ee4fd-fa15-4759-add6-4d879590f83e"
   },
   "outputs": [
    {
     "data": {
      "text/plain": [
       "(\"Mean of 'EPS Utilisation':\", 0.917177593105564)"
      ]
     },
     "execution_count": 58,
     "metadata": {},
     "output_type": "execute_result"
    }
   ],
   "source": [
    "# Calculate the mean of the 'EPS Utilisation' column\n",
    "mean_utilisation = df['EPS Utilisation'].mean()\n",
    "\n",
    "# Print the mean\n",
    "\"Mean of 'EPS Utilisation':\", mean_utilisation"
   ]
  },
  {
   "cell_type": "code",
   "execution_count": 59,
   "metadata": {
    "colab": {
     "base_uri": "https://localhost:8080/",
     "height": 424
    },
    "id": "MpBf-5aBuqLM",
    "outputId": "b482b583-0b57-466b-b522-99505e1adae7"
   },
   "outputs": [
    {
     "data": {
      "text/html": [
       "<div>\n",
       "<style scoped>\n",
       "    .dataframe tbody tr th:only-of-type {\n",
       "        vertical-align: middle;\n",
       "    }\n",
       "\n",
       "    .dataframe tbody tr th {\n",
       "        vertical-align: top;\n",
       "    }\n",
       "\n",
       "    .dataframe thead th {\n",
       "        text-align: right;\n",
       "    }\n",
       "</style>\n",
       "<table border=\"1\" class=\"dataframe\">\n",
       "  <thead>\n",
       "    <tr style=\"text-align: right;\">\n",
       "      <th></th>\n",
       "      <th>ODS Code</th>\n",
       "      <th>Region</th>\n",
       "      <th>Place Code</th>\n",
       "      <th>Place</th>\n",
       "      <th>EPS Utilisation</th>\n",
       "    </tr>\n",
       "  </thead>\n",
       "  <tbody>\n",
       "    <tr>\n",
       "      <th>52</th>\n",
       "      <td>A81066</td>\n",
       "      <td>North East and Yorkshire</td>\n",
       "      <td>16C</td>\n",
       "      <td>Tees Valley</td>\n",
       "      <td>0.407</td>\n",
       "    </tr>\n",
       "    <tr>\n",
       "      <th>64</th>\n",
       "      <td>A81630</td>\n",
       "      <td>North East and Yorkshire</td>\n",
       "      <td>16C</td>\n",
       "      <td>Tees Valley</td>\n",
       "      <td>0.624</td>\n",
       "    </tr>\n",
       "    <tr>\n",
       "      <th>68</th>\n",
       "      <td>A82003</td>\n",
       "      <td>North West</td>\n",
       "      <td>01K</td>\n",
       "      <td>Morecambe Bay</td>\n",
       "      <td>0.854</td>\n",
       "    </tr>\n",
       "    <tr>\n",
       "      <th>69</th>\n",
       "      <td>A82004</td>\n",
       "      <td>North East and Yorkshire</td>\n",
       "      <td>01H</td>\n",
       "      <td>North Cumbria</td>\n",
       "      <td>0.575</td>\n",
       "    </tr>\n",
       "    <tr>\n",
       "      <th>76</th>\n",
       "      <td>A82012</td>\n",
       "      <td>North East and Yorkshire</td>\n",
       "      <td>01H</td>\n",
       "      <td>North Cumbria</td>\n",
       "      <td>0.338</td>\n",
       "    </tr>\n",
       "    <tr>\n",
       "      <th>...</th>\n",
       "      <td>...</td>\n",
       "      <td>...</td>\n",
       "      <td>...</td>\n",
       "      <td>...</td>\n",
       "      <td>...</td>\n",
       "    </tr>\n",
       "    <tr>\n",
       "      <th>6439</th>\n",
       "      <td>Y05163</td>\n",
       "      <td>London</td>\n",
       "      <td>72Q</td>\n",
       "      <td>South East London</td>\n",
       "      <td>0.000</td>\n",
       "    </tr>\n",
       "    <tr>\n",
       "      <th>6444</th>\n",
       "      <td>Y05251</td>\n",
       "      <td>North West</td>\n",
       "      <td>01D</td>\n",
       "      <td>Heywood, Middleton &amp; Rochdale</td>\n",
       "      <td>0.000</td>\n",
       "    </tr>\n",
       "    <tr>\n",
       "      <th>6445</th>\n",
       "      <td>Y05253</td>\n",
       "      <td>North West</td>\n",
       "      <td>01D</td>\n",
       "      <td>Heywood, Middleton &amp; Rochdale</td>\n",
       "      <td>0.000</td>\n",
       "    </tr>\n",
       "    <tr>\n",
       "      <th>6446</th>\n",
       "      <td>Y05257</td>\n",
       "      <td>London</td>\n",
       "      <td>93C</td>\n",
       "      <td>North Central London</td>\n",
       "      <td>0.785</td>\n",
       "    </tr>\n",
       "    <tr>\n",
       "      <th>6462</th>\n",
       "      <td>Y05750</td>\n",
       "      <td>North West</td>\n",
       "      <td>27D</td>\n",
       "      <td>Cheshire</td>\n",
       "      <td>0.000</td>\n",
       "    </tr>\n",
       "  </tbody>\n",
       "</table>\n",
       "<p>1018 rows × 5 columns</p>\n",
       "</div>"
      ],
      "text/plain": [
       "     ODS Code                    Region Place Code  \\\n",
       "52     A81066  North East and Yorkshire        16C   \n",
       "64     A81630  North East and Yorkshire        16C   \n",
       "68     A82003                North West        01K   \n",
       "69     A82004  North East and Yorkshire        01H   \n",
       "76     A82012  North East and Yorkshire        01H   \n",
       "...       ...                       ...        ...   \n",
       "6439   Y05163                    London        72Q   \n",
       "6444   Y05251                North West        01D   \n",
       "6445   Y05253                North West        01D   \n",
       "6446   Y05257                    London        93C   \n",
       "6462   Y05750                North West        27D   \n",
       "\n",
       "                              Place  EPS Utilisation  \n",
       "52                      Tees Valley            0.407  \n",
       "64                      Tees Valley            0.624  \n",
       "68                    Morecambe Bay            0.854  \n",
       "69                    North Cumbria            0.575  \n",
       "76                    North Cumbria            0.338  \n",
       "...                             ...              ...  \n",
       "6439              South East London            0.000  \n",
       "6444  Heywood, Middleton & Rochdale            0.000  \n",
       "6445  Heywood, Middleton & Rochdale            0.000  \n",
       "6446           North Central London            0.785  \n",
       "6462                       Cheshire            0.000  \n",
       "\n",
       "[1018 rows x 5 columns]"
      ]
     },
     "execution_count": 59,
     "metadata": {},
     "output_type": "execute_result"
    }
   ],
   "source": [
    "# Create a new dataframe with only the providers with 'EPS Utilisation' less than mean\n",
    "providers_less_than_mean_utilisation = df[df['EPS Utilisation'] < mean_utilisation]\n",
    "\n",
    "# Print the providers with 'EPS Utilisation' less than mean\n",
    "\"Providers with 'EPS Utilisation' less than mean:\"\n",
    "providers_less_than_mean_utilisation[['ODS Code', 'Region', 'Place Code', 'Place', 'EPS Utilisation']]\n"
   ]
  },
  {
   "cell_type": "code",
   "execution_count": 60,
   "metadata": {
    "id": "9Cq1a9BVu5-0"
   },
   "outputs": [],
   "source": [
    "import matplotlib.pyplot as plt"
   ]
  },
  {
   "cell_type": "code",
   "execution_count": 61,
   "metadata": {
    "colab": {
     "base_uri": "https://localhost:8080/",
     "height": 404
    },
    "id": "ooXykxxavHYV",
    "outputId": "e6de9dd3-463d-479b-814e-f8a485896828"
   },
   "outputs": [
    {
     "data": {
      "image/png": "[encoded data removed]",
      "text/plain": [
       "<Figure size 1200x600 with 1 Axes>"
      ]
     },
     "metadata": {},
     "output_type": "display_data"
    }
   ],
   "source": [
    "# Set the figure size\n",
    "plt.figure(figsize=(12, 6))\n",
    "\n",
    "# Plot a scatter plot between '% of patients with a nomination' and 'EPS Utilisation'\n",
    "plt.scatter(df['% of patients with a nomination'], df['EPS Utilisation'])\n",
    "plt.xlabel(\"% of patients with a nomination\")\n",
    "plt.ylabel(\"EPS Utilisation\")\n",
    "plt.title(\"Scatter plot between '% of patients with a nomination' and 'EPS Utilisation'\")\n",
    "plt.show()"
   ]
  },
  {
   "cell_type": "markdown",
   "metadata": {},
   "source": [
    "--------------------------------------"
   ]
  },
  {
   "cell_type": "markdown",
   "metadata": {},
   "source": [
    "# Correlation"
   ]
  },
  {
   "cell_type": "code",
   "execution_count": 62,
   "metadata": {
    "colab": {
     "base_uri": "https://localhost:8080/"
    },
    "id": "KjxmWD1osEV3",
    "outputId": "15afed81-f647-4650-a7fb-32d207bfd789"
   },
   "outputs": [
    {
     "name": "stdout",
     "output_type": "stream",
     "text": [
      "Correlation Coefficient: 0.8025828152566865\n"
     ]
    }
   ],
   "source": [
    "# Select the relevant columns for analysis\n",
    "nomination_pct = df['% of patients with a nomination']\n",
    "eps_utilisation = df['EPS Utilisation']\n",
    "\n",
    "# Calculate the correlation coefficient\n",
    "corr_coef = nomination_pct.corr(eps_utilisation)\n",
    "\n",
    "# Print the correlation coefficient\n",
    "print('Correlation Coefficient:', corr_coef)"
   ]
  },
  {
   "cell_type": "code",
   "execution_count": 63,
   "metadata": {},
   "outputs": [
    {
     "data": {
      "text/html": [
       "<div>\n",
       "<style scoped>\n",
       "    .dataframe tbody tr th:only-of-type {\n",
       "        vertical-align: middle;\n",
       "    }\n",
       "\n",
       "    .dataframe tbody tr th {\n",
       "        vertical-align: top;\n",
       "    }\n",
       "\n",
       "    .dataframe thead th {\n",
       "        text-align: right;\n",
       "    }\n",
       "</style>\n",
       "<table border=\"1\" class=\"dataframe\">\n",
       "  <thead>\n",
       "    <tr style=\"text-align: right;\">\n",
       "      <th></th>\n",
       "      <th>Registered Patients</th>\n",
       "      <th>% of patients with a nomination</th>\n",
       "      <th>EPS Items</th>\n",
       "      <th>eRD Items</th>\n",
       "      <th>All Items</th>\n",
       "      <th>EPS Utilisation</th>\n",
       "      <th>eRD Utilisation (EPS Items)</th>\n",
       "      <th>eRD Utilisation (All Items)</th>\n",
       "    </tr>\n",
       "  </thead>\n",
       "  <tbody>\n",
       "    <tr>\n",
       "      <th>Registered Patients</th>\n",
       "      <td>1.000000</td>\n",
       "      <td>0.047628</td>\n",
       "      <td>0.815456</td>\n",
       "      <td>0.402134</td>\n",
       "      <td>0.819262</td>\n",
       "      <td>0.050195</td>\n",
       "      <td>0.015741</td>\n",
       "      <td>0.033733</td>\n",
       "    </tr>\n",
       "    <tr>\n",
       "      <th>% of patients with a nomination</th>\n",
       "      <td>0.047628</td>\n",
       "      <td>1.000000</td>\n",
       "      <td>0.322894</td>\n",
       "      <td>0.139839</td>\n",
       "      <td>0.112451</td>\n",
       "      <td>0.802583</td>\n",
       "      <td>-0.002630</td>\n",
       "      <td>0.092993</td>\n",
       "    </tr>\n",
       "    <tr>\n",
       "      <th>EPS Items</th>\n",
       "      <td>0.815456</td>\n",
       "      <td>0.322894</td>\n",
       "      <td>1.000000</td>\n",
       "      <td>0.523553</td>\n",
       "      <td>0.948533</td>\n",
       "      <td>0.135459</td>\n",
       "      <td>0.040821</td>\n",
       "      <td>0.076045</td>\n",
       "    </tr>\n",
       "    <tr>\n",
       "      <th>eRD Items</th>\n",
       "      <td>0.402134</td>\n",
       "      <td>0.139839</td>\n",
       "      <td>0.523553</td>\n",
       "      <td>1.000000</td>\n",
       "      <td>0.471197</td>\n",
       "      <td>0.096447</td>\n",
       "      <td>0.705227</td>\n",
       "      <td>0.716291</td>\n",
       "    </tr>\n",
       "    <tr>\n",
       "      <th>All Items</th>\n",
       "      <td>0.819262</td>\n",
       "      <td>0.112451</td>\n",
       "      <td>0.948533</td>\n",
       "      <td>0.471197</td>\n",
       "      <td>1.000000</td>\n",
       "      <td>-0.011415</td>\n",
       "      <td>-0.002723</td>\n",
       "      <td>0.003941</td>\n",
       "    </tr>\n",
       "    <tr>\n",
       "      <th>EPS Utilisation</th>\n",
       "      <td>0.050195</td>\n",
       "      <td>0.802583</td>\n",
       "      <td>0.135459</td>\n",
       "      <td>0.096447</td>\n",
       "      <td>-0.011415</td>\n",
       "      <td>1.000000</td>\n",
       "      <td>0.064994</td>\n",
       "      <td>0.132372</td>\n",
       "    </tr>\n",
       "    <tr>\n",
       "      <th>eRD Utilisation (EPS Items)</th>\n",
       "      <td>0.015741</td>\n",
       "      <td>-0.002630</td>\n",
       "      <td>0.040821</td>\n",
       "      <td>0.705227</td>\n",
       "      <td>-0.002723</td>\n",
       "      <td>0.064994</td>\n",
       "      <td>1.000000</td>\n",
       "      <td>0.988817</td>\n",
       "    </tr>\n",
       "    <tr>\n",
       "      <th>eRD Utilisation (All Items)</th>\n",
       "      <td>0.033733</td>\n",
       "      <td>0.092993</td>\n",
       "      <td>0.076045</td>\n",
       "      <td>0.716291</td>\n",
       "      <td>0.003941</td>\n",
       "      <td>0.132372</td>\n",
       "      <td>0.988817</td>\n",
       "      <td>1.000000</td>\n",
       "    </tr>\n",
       "  </tbody>\n",
       "</table>\n",
       "</div>"
      ],
      "text/plain": [
       "                                 Registered Patients  \\\n",
       "Registered Patients                         1.000000   \n",
       "% of patients with a nomination             0.047628   \n",
       "EPS Items                                   0.815456   \n",
       "eRD Items                                   0.402134   \n",
       "All Items                                   0.819262   \n",
       "EPS Utilisation                             0.050195   \n",
       "eRD Utilisation (EPS Items)                 0.015741   \n",
       "eRD Utilisation (All Items)                 0.033733   \n",
       "\n",
       "                                 % of patients with a nomination  EPS Items  \\\n",
       "Registered Patients                                     0.047628   0.815456   \n",
       "% of patients with a nomination                         1.000000   0.322894   \n",
       "EPS Items                                               0.322894   1.000000   \n",
       "eRD Items                                               0.139839   0.523553   \n",
       "All Items                                               0.112451   0.948533   \n",
       "EPS Utilisation                                         0.802583   0.135459   \n",
       "eRD Utilisation (EPS Items)                            -0.002630   0.040821   \n",
       "eRD Utilisation (All Items)                             0.092993   0.076045   \n",
       "\n",
       "                                 eRD Items  All Items  EPS Utilisation  \\\n",
       "Registered Patients               0.402134   0.819262         0.050195   \n",
       "% of patients with a nomination   0.139839   0.112451         0.802583   \n",
       "EPS Items                         0.523553   0.948533         0.135459   \n",
       "eRD Items                         1.000000   0.471197         0.096447   \n",
       "All Items                         0.471197   1.000000        -0.011415   \n",
       "EPS Utilisation                   0.096447  -0.011415         1.000000   \n",
       "eRD Utilisation (EPS Items)       0.705227  -0.002723         0.064994   \n",
       "eRD Utilisation (All Items)       0.716291   0.003941         0.132372   \n",
       "\n",
       "                                 eRD Utilisation (EPS Items)  \\\n",
       "Registered Patients                                 0.015741   \n",
       "% of patients with a nomination                    -0.002630   \n",
       "EPS Items                                           0.040821   \n",
       "eRD Items                                           0.705227   \n",
       "All Items                                          -0.002723   \n",
       "EPS Utilisation                                     0.064994   \n",
       "eRD Utilisation (EPS Items)                         1.000000   \n",
       "eRD Utilisation (All Items)                         0.988817   \n",
       "\n",
       "                                 eRD Utilisation (All Items)  \n",
       "Registered Patients                                 0.033733  \n",
       "% of patients with a nomination                     0.092993  \n",
       "EPS Items                                           0.076045  \n",
       "eRD Items                                           0.716291  \n",
       "All Items                                           0.003941  \n",
       "EPS Utilisation                                     0.132372  \n",
       "eRD Utilisation (EPS Items)                         0.988817  \n",
       "eRD Utilisation (All Items)                         1.000000  "
      ]
     },
     "execution_count": 63,
     "metadata": {},
     "output_type": "execute_result"
    }
   ],
   "source": [
    "corr=df.corr()\n",
    "corr"
   ]
  },
  {
   "cell_type": "code",
   "execution_count": 64,
   "metadata": {},
   "outputs": [
    {
     "data": {
      "text/plain": [
       "<AxesSubplot: >"
      ]
     },
     "execution_count": 64,
     "metadata": {},
     "output_type": "execute_result"
    },
    {
     "data": {
      "image/png": "[encoded data removed]",
      "text/plain": [
       "<Figure size 640x480 with 2 Axes>"
      ]
     },
     "metadata": {},
     "output_type": "display_data"
    }
   ],
   "source": [
    "import seaborn as sns\n",
    "sns.heatmap(corr)"
   ]
  },
  {
   "cell_type": "markdown",
   "metadata": {},
   "source": [
    "--------------------------------------"
   ]
  },
  {
   "cell_type": "code",
   "execution_count": 65,
   "metadata": {
    "id": "uYMDQVMuxdsE"
   },
   "outputs": [],
   "source": [
    "from scipy import stats"
   ]
  },
  {
   "cell_type": "code",
   "execution_count": 30,
   "metadata": {
    "id": "qQPi_o-Dxf9S"
   },
   "outputs": [],
   "source": [
    "# Define a function to detect outliers using Z-score\n",
    "def detect_outliers_zscore(data):\n",
    "    threshold = 3\n",
    "    z_scores = np.abs(stats.zscore(data))\n",
    "    return np.where(z_scores > threshold)"
   ]
  },
  {
   "cell_type": "code",
   "execution_count": 66,
   "metadata": {
    "id": "eWyWeBemxqKr"
   },
   "outputs": [],
   "source": [
    "# Define a function to detect outliers using IQR\n",
    "def detect_outliers_iqr(data):\n",
    "    q1, q3 = np.percentile(data, [25, 75])\n",
    "    iqr = q3 - q1\n",
    "    lower_bound = q1 - (1.5 * iqr)\n",
    "    upper_bound = q3 + (1.5 * iqr)\n",
    "    return np.where((data < lower_bound) | (data > upper_bound))"
   ]
  },
  {
   "cell_type": "code",
   "execution_count": 67,
   "metadata": {
    "colab": {
     "base_uri": "https://localhost:8080/",
     "height": 300
    },
    "id": "C_uLbU-TxuxG",
    "outputId": "c5c050dc-1e15-4df8-db32-c9ba9197591e"
   },
   "outputs": [
    {
     "data": {
      "text/html": [
       "<div>\n",
       "<style scoped>\n",
       "    .dataframe tbody tr th:only-of-type {\n",
       "        vertical-align: middle;\n",
       "    }\n",
       "\n",
       "    .dataframe tbody tr th {\n",
       "        vertical-align: top;\n",
       "    }\n",
       "\n",
       "    .dataframe thead th {\n",
       "        text-align: right;\n",
       "    }\n",
       "</style>\n",
       "<table border=\"1\" class=\"dataframe\">\n",
       "  <thead>\n",
       "    <tr style=\"text-align: right;\">\n",
       "      <th></th>\n",
       "      <th>Column</th>\n",
       "      <th>Number of Z-score outliers</th>\n",
       "      <th>Number of IQR outliers</th>\n",
       "    </tr>\n",
       "  </thead>\n",
       "  <tbody>\n",
       "    <tr>\n",
       "      <th>0</th>\n",
       "      <td>Registered Patients</td>\n",
       "      <td>101</td>\n",
       "      <td>225</td>\n",
       "    </tr>\n",
       "    <tr>\n",
       "      <th>1</th>\n",
       "      <td>% of patients with a nomination</td>\n",
       "      <td>0</td>\n",
       "      <td>0</td>\n",
       "    </tr>\n",
       "    <tr>\n",
       "      <th>2</th>\n",
       "      <td>EPS Items</td>\n",
       "      <td>89</td>\n",
       "      <td>243</td>\n",
       "    </tr>\n",
       "    <tr>\n",
       "      <th>3</th>\n",
       "      <td>eRD Items</td>\n",
       "      <td>122</td>\n",
       "      <td>403</td>\n",
       "    </tr>\n",
       "    <tr>\n",
       "      <th>4</th>\n",
       "      <td>All Items</td>\n",
       "      <td>95</td>\n",
       "      <td>260</td>\n",
       "    </tr>\n",
       "    <tr>\n",
       "      <th>5</th>\n",
       "      <td>EPS Utilisation</td>\n",
       "      <td>1</td>\n",
       "      <td>1019</td>\n",
       "    </tr>\n",
       "    <tr>\n",
       "      <th>6</th>\n",
       "      <td>eRD Utilisation (EPS Items)</td>\n",
       "      <td>0</td>\n",
       "      <td>0</td>\n",
       "    </tr>\n",
       "    <tr>\n",
       "      <th>7</th>\n",
       "      <td>eRD Utilisation (All Items)</td>\n",
       "      <td>59</td>\n",
       "      <td>62</td>\n",
       "    </tr>\n",
       "  </tbody>\n",
       "</table>\n",
       "</div>"
      ],
      "text/plain": [
       "                            Column Number of Z-score outliers  \\\n",
       "0              Registered Patients                        101   \n",
       "1  % of patients with a nomination                          0   \n",
       "2                        EPS Items                         89   \n",
       "3                        eRD Items                        122   \n",
       "4                        All Items                         95   \n",
       "5                  EPS Utilisation                          1   \n",
       "6      eRD Utilisation (EPS Items)                          0   \n",
       "7      eRD Utilisation (All Items)                         59   \n",
       "\n",
       "  Number of IQR outliers  \n",
       "0                    225  \n",
       "1                      0  \n",
       "2                    243  \n",
       "3                    403  \n",
       "4                    260  \n",
       "5                   1019  \n",
       "6                      0  \n",
       "7                     62  "
      ]
     },
     "execution_count": 67,
     "metadata": {},
     "output_type": "execute_result"
    }
   ],
   "source": [
    "# Check for outliers in each column\n",
    "\n",
    "results = pd.DataFrame(columns=['Column', 'Number of Z-score outliers', 'Number of IQR outliers'])\n",
    "\n",
    "for col in df.columns[5:]:\n",
    "    data = df[col]\n",
    "    outliers_zscore = detect_outliers_zscore(data)\n",
    "    outliers_iqr = detect_outliers_iqr(data)\n",
    "    \n",
    "    results = results.append({\n",
    "        'Column': col,\n",
    "        'Number of Z-score outliers': len(outliers_zscore[0]),\n",
    "        'Number of IQR outliers': len(outliers_iqr[0])\n",
    "    }, ignore_index=True)\n",
    "\n",
    "results"
   ]
  },
  {
   "cell_type": "code",
   "execution_count": 68,
   "metadata": {
    "id": "tz7X-ia31kJR"
   },
   "outputs": [],
   "source": [
    "# Define a function to clip outliers at the 1st and 99th percentiles\n",
    "def clip_outliers(data):\n",
    "    p1 = np.percentile(data, 1)\n",
    "    p99 = np.percentile(data, 99)\n",
    "    return np.clip(data, p1, p99)"
   ]
  },
  {
   "cell_type": "code",
   "execution_count": 69,
   "metadata": {
    "id": "DYodcx2_3yc-"
   },
   "outputs": [],
   "source": [
    "# create a new dataframe to hold the clipped data\n",
    "clipped_df = pd.DataFrame()"
   ]
  },
  {
   "cell_type": "code",
   "execution_count": 70,
   "metadata": {
    "colab": {
     "base_uri": "https://localhost:8080/",
     "height": 520
    },
    "id": "8WXE04Hc4r6b",
    "outputId": "4bfb0f37-046e-474c-87a6-7b85cec13978"
   },
   "outputs": [
    {
     "data": {
      "text/html": [
       "<div>\n",
       "<style scoped>\n",
       "    .dataframe tbody tr th:only-of-type {\n",
       "        vertical-align: middle;\n",
       "    }\n",
       "\n",
       "    .dataframe tbody tr th {\n",
       "        vertical-align: top;\n",
       "    }\n",
       "\n",
       "    .dataframe thead th {\n",
       "        text-align: right;\n",
       "    }\n",
       "</style>\n",
       "<table border=\"1\" class=\"dataframe\">\n",
       "  <thead>\n",
       "    <tr style=\"text-align: right;\">\n",
       "      <th></th>\n",
       "      <th>Column</th>\n",
       "      <th>Number of Z-score outliers before clipping</th>\n",
       "      <th>Number of IQR outliers before clipping</th>\n",
       "      <th>Number of Z-score outliers after clipping</th>\n",
       "      <th>Number of IQR outliers after clipping</th>\n",
       "    </tr>\n",
       "  </thead>\n",
       "  <tbody>\n",
       "    <tr>\n",
       "      <th>0</th>\n",
       "      <td>Registered Patients</td>\n",
       "      <td>101</td>\n",
       "      <td>225</td>\n",
       "      <td>136</td>\n",
       "      <td>225</td>\n",
       "    </tr>\n",
       "    <tr>\n",
       "      <th>1</th>\n",
       "      <td>% of patients with a nomination</td>\n",
       "      <td>0</td>\n",
       "      <td>0</td>\n",
       "      <td>0</td>\n",
       "      <td>0</td>\n",
       "    </tr>\n",
       "    <tr>\n",
       "      <th>2</th>\n",
       "      <td>EPS Items</td>\n",
       "      <td>89</td>\n",
       "      <td>243</td>\n",
       "      <td>117</td>\n",
       "      <td>243</td>\n",
       "    </tr>\n",
       "    <tr>\n",
       "      <th>3</th>\n",
       "      <td>eRD Items</td>\n",
       "      <td>122</td>\n",
       "      <td>403</td>\n",
       "      <td>163</td>\n",
       "      <td>403</td>\n",
       "    </tr>\n",
       "    <tr>\n",
       "      <th>4</th>\n",
       "      <td>All Items</td>\n",
       "      <td>95</td>\n",
       "      <td>260</td>\n",
       "      <td>119</td>\n",
       "      <td>260</td>\n",
       "    </tr>\n",
       "    <tr>\n",
       "      <th>5</th>\n",
       "      <td>EPS Utilisation</td>\n",
       "      <td>1</td>\n",
       "      <td>1019</td>\n",
       "      <td>282</td>\n",
       "      <td>1018</td>\n",
       "    </tr>\n",
       "    <tr>\n",
       "      <th>6</th>\n",
       "      <td>eRD Utilisation (EPS Items)</td>\n",
       "      <td>0</td>\n",
       "      <td>0</td>\n",
       "      <td>0</td>\n",
       "      <td>0</td>\n",
       "    </tr>\n",
       "    <tr>\n",
       "      <th>7</th>\n",
       "      <td>eRD Utilisation (All Items)</td>\n",
       "      <td>59</td>\n",
       "      <td>62</td>\n",
       "      <td>66</td>\n",
       "      <td>0</td>\n",
       "    </tr>\n",
       "  </tbody>\n",
       "</table>\n",
       "</div>"
      ],
      "text/plain": [
       "                            Column  \\\n",
       "0              Registered Patients   \n",
       "1  % of patients with a nomination   \n",
       "2                        EPS Items   \n",
       "3                        eRD Items   \n",
       "4                        All Items   \n",
       "5                  EPS Utilisation   \n",
       "6      eRD Utilisation (EPS Items)   \n",
       "7      eRD Utilisation (All Items)   \n",
       "\n",
       "   Number of Z-score outliers before clipping  \\\n",
       "0                                         101   \n",
       "1                                           0   \n",
       "2                                          89   \n",
       "3                                         122   \n",
       "4                                          95   \n",
       "5                                           1   \n",
       "6                                           0   \n",
       "7                                          59   \n",
       "\n",
       "   Number of IQR outliers before clipping  \\\n",
       "0                                     225   \n",
       "1                                       0   \n",
       "2                                     243   \n",
       "3                                     403   \n",
       "4                                     260   \n",
       "5                                    1019   \n",
       "6                                       0   \n",
       "7                                      62   \n",
       "\n",
       "   Number of Z-score outliers after clipping  \\\n",
       "0                                        136   \n",
       "1                                          0   \n",
       "2                                        117   \n",
       "3                                        163   \n",
       "4                                        119   \n",
       "5                                        282   \n",
       "6                                          0   \n",
       "7                                         66   \n",
       "\n",
       "   Number of IQR outliers after clipping  \n",
       "0                                    225  \n",
       "1                                      0  \n",
       "2                                    243  \n",
       "3                                    403  \n",
       "4                                    260  \n",
       "5                                   1018  \n",
       "6                                      0  \n",
       "7                                      0  "
      ]
     },
     "metadata": {},
     "output_type": "display_data"
    }
   ],
   "source": [
    "# Create an empty list to store results\n",
    "results = []\n",
    "\n",
    "# loop through each column and clip the outliers\n",
    "for col in df.columns[5:]:\n",
    "    data = df[col]\n",
    "    clipped_data = clip_outliers(data)\n",
    "    clipped_df[col] = clipped_data\n",
    "    \n",
    "    # count the number of outliers before and after clipping\n",
    "    outliers_zscore = detect_outliers_zscore(data)\n",
    "    outliers_iqr = detect_outliers_iqr(data)\n",
    "    clipped_outliers_zscore = detect_outliers_zscore(clipped_data)\n",
    "    clipped_outliers_iqr = detect_outliers_iqr(clipped_data)\n",
    "    \n",
    "    # append a row to the results list\n",
    "    results.append({'Column': col,\n",
    "                    'Number of Z-score outliers before clipping': len(outliers_zscore[0]),\n",
    "                    'Number of IQR outliers before clipping': len(outliers_iqr[0]),\n",
    "                    'Number of Z-score outliers after clipping': len(clipped_outliers_zscore[0]),\n",
    "                    'Number of IQR outliers after clipping': len(clipped_outliers_iqr[0]),\n",
    "                   })\n",
    "\n",
    "# create the final table by concatenating all rows in the results list\n",
    "final_table = pd.concat([pd.DataFrame([r]) for r in results], ignore_index=True)\n",
    "\n",
    "display(final_table)"
   ]
  },
  {
   "cell_type": "code",
   "execution_count": null,
   "metadata": {},
   "outputs": [],
   "source": []
  },
  {
   "cell_type": "code",
   "execution_count": 111,
   "metadata": {
    "id": "vaI-gHS8GCRU"
   },
   "outputs": [
    {
     "data": {
      "text/html": [
       "<div>\n",
       "<style scoped>\n",
       "    .dataframe tbody tr th:only-of-type {\n",
       "        vertical-align: middle;\n",
       "    }\n",
       "\n",
       "    .dataframe tbody tr th {\n",
       "        vertical-align: top;\n",
       "    }\n",
       "\n",
       "    .dataframe thead th {\n",
       "        text-align: right;\n",
       "    }\n",
       "</style>\n",
       "<table border=\"1\" class=\"dataframe\">\n",
       "  <thead>\n",
       "    <tr style=\"text-align: right;\">\n",
       "      <th></th>\n",
       "      <th>Region</th>\n",
       "      <th>Place Code</th>\n",
       "      <th>Place</th>\n",
       "      <th>ODS Code</th>\n",
       "      <th>GP Practice (ODS Code)</th>\n",
       "      <th>Registered Patients</th>\n",
       "      <th>% of patients with a nomination</th>\n",
       "      <th>EPS Items</th>\n",
       "      <th>eRD Items</th>\n",
       "      <th>All Items</th>\n",
       "      <th>EPS Utilisation</th>\n",
       "      <th>eRD Utilisation (EPS Items)</th>\n",
       "      <th>eRD Utilisation (All Items)</th>\n",
       "    </tr>\n",
       "  </thead>\n",
       "  <tbody>\n",
       "    <tr>\n",
       "      <th>0</th>\n",
       "      <td>North East and Yorkshire</td>\n",
       "      <td>16C</td>\n",
       "      <td>Tees Valley</td>\n",
       "      <td>A81001</td>\n",
       "      <td>The Densham Surgery (A81001)</td>\n",
       "      <td>4019</td>\n",
       "      <td>0.817</td>\n",
       "      <td>8120</td>\n",
       "      <td>607</td>\n",
       "      <td>8172</td>\n",
       "      <td>0.994</td>\n",
       "      <td>0.075</td>\n",
       "      <td>0.074</td>\n",
       "    </tr>\n",
       "    <tr>\n",
       "      <th>1</th>\n",
       "      <td>North East and Yorkshire</td>\n",
       "      <td>16C</td>\n",
       "      <td>Tees Valley</td>\n",
       "      <td>A81002</td>\n",
       "      <td>Queens Park Medical Centre (A81002)</td>\n",
       "      <td>18288</td>\n",
       "      <td>0.863</td>\n",
       "      <td>37318</td>\n",
       "      <td>10937</td>\n",
       "      <td>37357</td>\n",
       "      <td>0.999</td>\n",
       "      <td>0.293</td>\n",
       "      <td>0.293</td>\n",
       "    </tr>\n",
       "    <tr>\n",
       "      <th>2</th>\n",
       "      <td>North East and Yorkshire</td>\n",
       "      <td>16C</td>\n",
       "      <td>Tees Valley</td>\n",
       "      <td>A81004</td>\n",
       "      <td>Acklam Medical Centre (A81004)</td>\n",
       "      <td>11209</td>\n",
       "      <td>0.814</td>\n",
       "      <td>18558</td>\n",
       "      <td>7163</td>\n",
       "      <td>18561</td>\n",
       "      <td>1.000</td>\n",
       "      <td>0.386</td>\n",
       "      <td>0.386</td>\n",
       "    </tr>\n",
       "    <tr>\n",
       "      <th>3</th>\n",
       "      <td>North East and Yorkshire</td>\n",
       "      <td>16C</td>\n",
       "      <td>Tees Valley</td>\n",
       "      <td>A81005</td>\n",
       "      <td>Springwood Surgery (A81005)</td>\n",
       "      <td>8032</td>\n",
       "      <td>0.835</td>\n",
       "      <td>16682</td>\n",
       "      <td>7561</td>\n",
       "      <td>16727</td>\n",
       "      <td>0.997</td>\n",
       "      <td>0.453</td>\n",
       "      <td>0.452</td>\n",
       "    </tr>\n",
       "    <tr>\n",
       "      <th>4</th>\n",
       "      <td>North East and Yorkshire</td>\n",
       "      <td>16C</td>\n",
       "      <td>Tees Valley</td>\n",
       "      <td>A81006</td>\n",
       "      <td>Tennant Street Medical Practice (A81006)</td>\n",
       "      <td>14407</td>\n",
       "      <td>0.819</td>\n",
       "      <td>30425</td>\n",
       "      <td>3378</td>\n",
       "      <td>30442</td>\n",
       "      <td>0.999</td>\n",
       "      <td>0.111</td>\n",
       "      <td>0.111</td>\n",
       "    </tr>\n",
       "  </tbody>\n",
       "</table>\n",
       "</div>"
      ],
      "text/plain": [
       "                     Region Place Code        Place ODS Code  \\\n",
       "0  North East and Yorkshire        16C  Tees Valley   A81001   \n",
       "1  North East and Yorkshire        16C  Tees Valley   A81002   \n",
       "2  North East and Yorkshire        16C  Tees Valley   A81004   \n",
       "3  North East and Yorkshire        16C  Tees Valley   A81005   \n",
       "4  North East and Yorkshire        16C  Tees Valley   A81006   \n",
       "\n",
       "                     GP Practice (ODS Code)  Registered Patients  \\\n",
       "0              The Densham Surgery (A81001)                 4019   \n",
       "1       Queens Park Medical Centre (A81002)                18288   \n",
       "2            Acklam Medical Centre (A81004)                11209   \n",
       "3               Springwood Surgery (A81005)                 8032   \n",
       "4  Tennant Street Medical Practice (A81006)                14407   \n",
       "\n",
       "   % of patients with a nomination  EPS Items  eRD Items  All Items  \\\n",
       "0                            0.817       8120        607       8172   \n",
       "1                            0.863      37318      10937      37357   \n",
       "2                            0.814      18558       7163      18561   \n",
       "3                            0.835      16682       7561      16727   \n",
       "4                            0.819      30425       3378      30442   \n",
       "\n",
       "   EPS Utilisation  eRD Utilisation (EPS Items)  eRD Utilisation (All Items)  \n",
       "0            0.994                        0.075                        0.074  \n",
       "1            0.999                        0.293                        0.293  \n",
       "2            1.000                        0.386                        0.386  \n",
       "3            0.997                        0.453                        0.452  \n",
       "4            0.999                        0.111                        0.111  "
      ]
     },
     "execution_count": 111,
     "metadata": {},
     "output_type": "execute_result"
    }
   ],
   "source": [
    "import pandas as pd\n",
    "from sklearn.linear_model import LinearRegression\n",
    "from sklearn.model_selection import train_test_split\n",
    "\n",
    "# load the data\n",
    "data = pd.read_csv(r'C:\\Uni_doc\\cleaned_electronic_prescription.csv')\n",
    "data.head()"
   ]
  },
  {
   "cell_type": "markdown",
   "metadata": {},
   "source": [
    "# Label Encoding"
   ]
  },
  {
   "cell_type": "code",
   "execution_count": 112,
   "metadata": {},
   "outputs": [],
   "source": [
    "from sklearn.preprocessing import LabelEncoder,OneHotEncoder"
   ]
  },
  {
   "cell_type": "code",
   "execution_count": 113,
   "metadata": {},
   "outputs": [],
   "source": [
    "label_encoder =LabelEncoder()\n",
    "# Encode labels in column. \n",
    "data['Region']= label_encoder.fit_transform(data['Region'])\n",
    "data['Place Code']= label_encoder.fit_transform(data['Place Code'])\n",
    "data['Place']= label_encoder.fit_transform(data['Place'])\n",
    "data['ODS Code']= label_encoder.fit_transform(data['ODS Code'])\n",
    "data['GP Practice (ODS Code)']= label_encoder.fit_transform(data['GP Practice (ODS Code)'])\n"
   ]
  },
  {
   "cell_type": "code",
   "execution_count": 114,
   "metadata": {},
   "outputs": [
    {
     "data": {
      "text/html": [
       "<div>\n",
       "<style scoped>\n",
       "    .dataframe tbody tr th:only-of-type {\n",
       "        vertical-align: middle;\n",
       "    }\n",
       "\n",
       "    .dataframe tbody tr th {\n",
       "        vertical-align: top;\n",
       "    }\n",
       "\n",
       "    .dataframe thead th {\n",
       "        text-align: right;\n",
       "    }\n",
       "</style>\n",
       "<table border=\"1\" class=\"dataframe\">\n",
       "  <thead>\n",
       "    <tr style=\"text-align: right;\">\n",
       "      <th></th>\n",
       "      <th>Region</th>\n",
       "      <th>Place Code</th>\n",
       "      <th>Place</th>\n",
       "      <th>ODS Code</th>\n",
       "      <th>GP Practice (ODS Code)</th>\n",
       "      <th>Registered Patients</th>\n",
       "      <th>% of patients with a nomination</th>\n",
       "      <th>EPS Items</th>\n",
       "      <th>eRD Items</th>\n",
       "      <th>All Items</th>\n",
       "      <th>EPS Utilisation</th>\n",
       "      <th>eRD Utilisation (EPS Items)</th>\n",
       "      <th>eRD Utilisation (All Items)</th>\n",
       "    </tr>\n",
       "  </thead>\n",
       "  <tbody>\n",
       "    <tr>\n",
       "      <th>0</th>\n",
       "      <td>3</td>\n",
       "      <td>74</td>\n",
       "      <td>93</td>\n",
       "      <td>0</td>\n",
       "      <td>5201</td>\n",
       "      <td>4019</td>\n",
       "      <td>0.817</td>\n",
       "      <td>8120</td>\n",
       "      <td>607</td>\n",
       "      <td>8172</td>\n",
       "      <td>0.994</td>\n",
       "      <td>0.075</td>\n",
       "      <td>0.074</td>\n",
       "    </tr>\n",
       "    <tr>\n",
       "      <th>1</th>\n",
       "      <td>3</td>\n",
       "      <td>74</td>\n",
       "      <td>93</td>\n",
       "      <td>1</td>\n",
       "      <td>4127</td>\n",
       "      <td>18288</td>\n",
       "      <td>0.863</td>\n",
       "      <td>37318</td>\n",
       "      <td>10937</td>\n",
       "      <td>37357</td>\n",
       "      <td>0.999</td>\n",
       "      <td>0.293</td>\n",
       "      <td>0.293</td>\n",
       "    </tr>\n",
       "    <tr>\n",
       "      <th>2</th>\n",
       "      <td>3</td>\n",
       "      <td>74</td>\n",
       "      <td>93</td>\n",
       "      <td>2</td>\n",
       "      <td>52</td>\n",
       "      <td>11209</td>\n",
       "      <td>0.814</td>\n",
       "      <td>18558</td>\n",
       "      <td>7163</td>\n",
       "      <td>18561</td>\n",
       "      <td>1.000</td>\n",
       "      <td>0.386</td>\n",
       "      <td>0.386</td>\n",
       "    </tr>\n",
       "    <tr>\n",
       "      <th>3</th>\n",
       "      <td>3</td>\n",
       "      <td>74</td>\n",
       "      <td>93</td>\n",
       "      <td>3</td>\n",
       "      <td>4675</td>\n",
       "      <td>8032</td>\n",
       "      <td>0.835</td>\n",
       "      <td>16682</td>\n",
       "      <td>7561</td>\n",
       "      <td>16727</td>\n",
       "      <td>0.997</td>\n",
       "      <td>0.453</td>\n",
       "      <td>0.452</td>\n",
       "    </tr>\n",
       "    <tr>\n",
       "      <th>4</th>\n",
       "      <td>3</td>\n",
       "      <td>74</td>\n",
       "      <td>93</td>\n",
       "      <td>4</td>\n",
       "      <td>5039</td>\n",
       "      <td>14407</td>\n",
       "      <td>0.819</td>\n",
       "      <td>30425</td>\n",
       "      <td>3378</td>\n",
       "      <td>30442</td>\n",
       "      <td>0.999</td>\n",
       "      <td>0.111</td>\n",
       "      <td>0.111</td>\n",
       "    </tr>\n",
       "  </tbody>\n",
       "</table>\n",
       "</div>"
      ],
      "text/plain": [
       "   Region  Place Code  Place  ODS Code  GP Practice (ODS Code)  \\\n",
       "0       3          74     93         0                    5201   \n",
       "1       3          74     93         1                    4127   \n",
       "2       3          74     93         2                      52   \n",
       "3       3          74     93         3                    4675   \n",
       "4       3          74     93         4                    5039   \n",
       "\n",
       "   Registered Patients  % of patients with a nomination  EPS Items  eRD Items  \\\n",
       "0                 4019                            0.817       8120        607   \n",
       "1                18288                            0.863      37318      10937   \n",
       "2                11209                            0.814      18558       7163   \n",
       "3                 8032                            0.835      16682       7561   \n",
       "4                14407                            0.819      30425       3378   \n",
       "\n",
       "   All Items  EPS Utilisation  eRD Utilisation (EPS Items)  \\\n",
       "0       8172            0.994                        0.075   \n",
       "1      37357            0.999                        0.293   \n",
       "2      18561            1.000                        0.386   \n",
       "3      16727            0.997                        0.453   \n",
       "4      30442            0.999                        0.111   \n",
       "\n",
       "   eRD Utilisation (All Items)  \n",
       "0                        0.074  \n",
       "1                        0.293  \n",
       "2                        0.386  \n",
       "3                        0.452  \n",
       "4                        0.111  "
      ]
     },
     "execution_count": 114,
     "metadata": {},
     "output_type": "execute_result"
    }
   ],
   "source": [
    "data.head()"
   ]
  },
  {
   "cell_type": "code",
   "execution_count": null,
   "metadata": {},
   "outputs": [],
   "source": []
  },
  {
   "cell_type": "code",
   "execution_count": 115,
   "metadata": {},
   "outputs": [
    {
     "data": {
      "text/plain": [
       "Region                               0\n",
       "Place Code                           0\n",
       "Place                                0\n",
       "ODS Code                             0\n",
       "GP Practice (ODS Code)               0\n",
       "Registered Patients                  0\n",
       "% of patients with a nomination    101\n",
       "EPS Items                            0\n",
       "eRD Items                            0\n",
       "All Items                            0\n",
       "EPS Utilisation                      0\n",
       "eRD Utilisation (EPS Items)        149\n",
       "eRD Utilisation (All Items)          0\n",
       "dtype: int64"
      ]
     },
     "execution_count": 115,
     "metadata": {},
     "output_type": "execute_result"
    }
   ],
   "source": [
    "data.isnull().sum()"
   ]
  },
  {
   "cell_type": "code",
   "execution_count": 116,
   "metadata": {},
   "outputs": [
    {
     "data": {
      "text/plain": [
       "(6262, 13)"
      ]
     },
     "execution_count": 116,
     "metadata": {},
     "output_type": "execute_result"
    }
   ],
   "source": [
    "data.dropna(subset=['% of patients with a nomination','eRD Utilisation (EPS Items)'], inplace=True)\n",
    "data.shape"
   ]
  },
  {
   "cell_type": "code",
   "execution_count": 103,
   "metadata": {},
   "outputs": [
    {
     "data": {
      "text/plain": [
       "Region                             0\n",
       "Place Code                         0\n",
       "Place                              0\n",
       "ODS Code                           0\n",
       "GP Practice (ODS Code)             0\n",
       "Registered Patients                0\n",
       "% of patients with a nomination    0\n",
       "EPS Items                          0\n",
       "eRD Items                          0\n",
       "All Items                          0\n",
       "EPS Utilisation                    0\n",
       "eRD Utilisation (EPS Items)        0\n",
       "eRD Utilisation (All Items)        0\n",
       "dtype: int64"
      ]
     },
     "execution_count": 103,
     "metadata": {},
     "output_type": "execute_result"
    }
   ],
   "source": [
    "data.isnull().sum()"
   ]
  },
  {
   "cell_type": "code",
   "execution_count": null,
   "metadata": {},
   "outputs": [],
   "source": []
  },
  {
   "cell_type": "code",
   "execution_count": null,
   "metadata": {},
   "outputs": [],
   "source": []
  },
  {
   "cell_type": "code",
   "execution_count": null,
   "metadata": {},
   "outputs": [],
   "source": []
  },
  {
   "cell_type": "markdown",
   "metadata": {},
   "source": [
    "# Feature Selection"
   ]
  },
  {
   "cell_type": "code",
   "execution_count": 82,
   "metadata": {},
   "outputs": [],
   "source": [
    "from sklearn import model_selection, preprocessing, feature_selection, ensemble, linear_model, metrics, decomposition\n"
   ]
  },
  {
   "cell_type": "code",
   "execution_count": 117,
   "metadata": {},
   "outputs": [
    {
     "data": {
      "text/plain": [
       "(6262, 13)"
      ]
     },
     "execution_count": 117,
     "metadata": {},
     "output_type": "execute_result"
    }
   ],
   "source": [
    "#df_ckecked=data.copy()\n",
    "df_ckecked=data.loc[:,:].copy()       \n",
    "\n",
    "df_ckecked.shape"
   ]
  },
  {
   "cell_type": "code",
   "execution_count": 118,
   "metadata": {},
   "outputs": [
    {
     "data": {
      "text/plain": [
       "<AxesSubplot: xlabel='selection', ylabel='features'>"
      ]
     },
     "execution_count": 118,
     "metadata": {},
     "output_type": "execute_result"
    },
    {
     "data": {
      "image/png": "[encoded data removed]",
      "text/plain": [
       "<Figure size 640x480 with 1 Axes>"
      ]
     },
     "metadata": {},
     "output_type": "display_data"
    }
   ],
   "source": [
    "X = df_ckecked.drop(\"EPS Utilisation\", axis=1).values\n",
    "y = df_ckecked[\"EPS Utilisation\"].values\n",
    "feature_names = df_ckecked.drop(\"EPS Utilisation\", axis=1).columns\n",
    "## p-value\n",
    "selector = feature_selection.SelectKBest(score_func= feature_selection.f_regression, k=9).fit(X,y)\n",
    "pvalue_selected_features = feature_names[selector.get_support()]\n",
    "\n",
    "## regularization\n",
    "selector = feature_selection.SelectFromModel(estimator= \n",
    "              linear_model.Ridge(alpha=1.0, fit_intercept=True), \n",
    "                                 max_features=9).fit(X,y)\n",
    "regularization_selected_features = feature_names[selector.get_support()]\n",
    " \n",
    "## plot\n",
    "dtf_features = pd.DataFrame({\"features\":feature_names})\n",
    "dtf_features[\"p_value\"] = dtf_features[\"features\"].apply(lambda x: \"p_value\" if x in pvalue_selected_features else \"\")\n",
    "dtf_features[\"num1\"] = dtf_features[\"features\"].apply(lambda x: 1 if x in pvalue_selected_features else 0)\n",
    "dtf_features[\"regularization\"] = dtf_features[\"features\"].apply(lambda x: \"regularization\" if x in regularization_selected_features else \"\")\n",
    "dtf_features[\"num2\"] = dtf_features[\"features\"].apply(lambda x: 1 if x in regularization_selected_features else 0)\n",
    "dtf_features[\"method\"] = dtf_features[[\"p_value\",\"regularization\"]].apply(lambda x: (x[0]+\" \"+x[1]).strip(), axis=1)\n",
    "dtf_features[\"selection\"] = dtf_features[\"num1\"] + dtf_features[\"num2\"]\n",
    "dtf_features[\"method\"] = dtf_features[\"method\"].apply(lambda x: \"both\" if len(x.split()) == 2 else x)\n",
    "sns.barplot(y=\"features\", x=\"selection\", hue=\"method\", data=dtf_features.sort_values(\"selection\", ascending=False), dodge=False)"
   ]
  },
  {
   "cell_type": "code",
   "execution_count": 119,
   "metadata": {},
   "outputs": [
    {
     "data": {
      "text/plain": [
       "(6262, 13)"
      ]
     },
     "execution_count": 119,
     "metadata": {},
     "output_type": "execute_result"
    }
   ],
   "source": [
    "df_ckecked.shape"
   ]
  },
  {
   "cell_type": "code",
   "execution_count": 120,
   "metadata": {},
   "outputs": [
    {
     "data": {
      "text/plain": [
       "(6262, 13)"
      ]
     },
     "execution_count": 120,
     "metadata": {},
     "output_type": "execute_result"
    }
   ],
   "source": [
    "data.shape"
   ]
  },
  {
   "cell_type": "code",
   "execution_count": 96,
   "metadata": {},
   "outputs": [],
   "source": [
    "X_names = ['% of patients with a nomination','eRD Utilisation (EPS Items)','eRD Utilisation (All Items)','ODS Code', 'Registered Patients','EPS Items','eRD Items','All Items','EPS Utilisation']\n"
   ]
  },
  {
   "cell_type": "code",
   "execution_count": 121,
   "metadata": {},
   "outputs": [
    {
     "data": {
      "text/html": [
       "<div>\n",
       "<style scoped>\n",
       "    .dataframe tbody tr th:only-of-type {\n",
       "        vertical-align: middle;\n",
       "    }\n",
       "\n",
       "    .dataframe tbody tr th {\n",
       "        vertical-align: top;\n",
       "    }\n",
       "\n",
       "    .dataframe thead th {\n",
       "        text-align: right;\n",
       "    }\n",
       "</style>\n",
       "<table border=\"1\" class=\"dataframe\">\n",
       "  <thead>\n",
       "    <tr style=\"text-align: right;\">\n",
       "      <th></th>\n",
       "      <th>% of patients with a nomination</th>\n",
       "      <th>eRD Utilisation (EPS Items)</th>\n",
       "      <th>eRD Utilisation (All Items)</th>\n",
       "      <th>ODS Code</th>\n",
       "      <th>Registered Patients</th>\n",
       "      <th>EPS Items</th>\n",
       "      <th>eRD Items</th>\n",
       "      <th>All Items</th>\n",
       "      <th>EPS Utilisation</th>\n",
       "    </tr>\n",
       "  </thead>\n",
       "  <tbody>\n",
       "    <tr>\n",
       "      <th>0</th>\n",
       "      <td>0.817</td>\n",
       "      <td>0.075</td>\n",
       "      <td>0.074</td>\n",
       "      <td>0</td>\n",
       "      <td>4019</td>\n",
       "      <td>8120</td>\n",
       "      <td>607</td>\n",
       "      <td>8172</td>\n",
       "      <td>0.994</td>\n",
       "    </tr>\n",
       "    <tr>\n",
       "      <th>1</th>\n",
       "      <td>0.863</td>\n",
       "      <td>0.293</td>\n",
       "      <td>0.293</td>\n",
       "      <td>1</td>\n",
       "      <td>18288</td>\n",
       "      <td>37318</td>\n",
       "      <td>10937</td>\n",
       "      <td>37357</td>\n",
       "      <td>0.999</td>\n",
       "    </tr>\n",
       "    <tr>\n",
       "      <th>2</th>\n",
       "      <td>0.814</td>\n",
       "      <td>0.386</td>\n",
       "      <td>0.386</td>\n",
       "      <td>2</td>\n",
       "      <td>11209</td>\n",
       "      <td>18558</td>\n",
       "      <td>7163</td>\n",
       "      <td>18561</td>\n",
       "      <td>1.000</td>\n",
       "    </tr>\n",
       "  </tbody>\n",
       "</table>\n",
       "</div>"
      ],
      "text/plain": [
       "   % of patients with a nomination  eRD Utilisation (EPS Items)  \\\n",
       "0                            0.817                        0.075   \n",
       "1                            0.863                        0.293   \n",
       "2                            0.814                        0.386   \n",
       "\n",
       "   eRD Utilisation (All Items)  ODS Code  Registered Patients  EPS Items  \\\n",
       "0                        0.074         0                 4019       8120   \n",
       "1                        0.293         1                18288      37318   \n",
       "2                        0.386         2                11209      18558   \n",
       "\n",
       "   eRD Items  All Items  EPS Utilisation  \n",
       "0        607       8172            0.994  \n",
       "1      10937      37357            0.999  \n",
       "2       7163      18561            1.000  "
      ]
     },
     "execution_count": 121,
     "metadata": {},
     "output_type": "execute_result"
    }
   ],
   "source": [
    "data=data.loc[:,['% of patients with a nomination','eRD Utilisation (EPS Items)','eRD Utilisation (All Items)','ODS Code', 'Registered Patients','EPS Items','eRD Items','All Items','EPS Utilisation']].copy()       \n",
    "#'colour',\n",
    "data.head(3)"
   ]
  },
  {
   "cell_type": "code",
   "execution_count": 122,
   "metadata": {},
   "outputs": [
    {
     "data": {
      "text/html": [
       "<div>\n",
       "<style scoped>\n",
       "    .dataframe tbody tr th:only-of-type {\n",
       "        vertical-align: middle;\n",
       "    }\n",
       "\n",
       "    .dataframe tbody tr th {\n",
       "        vertical-align: top;\n",
       "    }\n",
       "\n",
       "    .dataframe thead th {\n",
       "        text-align: right;\n",
       "    }\n",
       "</style>\n",
       "<table border=\"1\" class=\"dataframe\">\n",
       "  <thead>\n",
       "    <tr style=\"text-align: right;\">\n",
       "      <th></th>\n",
       "      <th>% of patients with a nomination</th>\n",
       "      <th>eRD Utilisation (EPS Items)</th>\n",
       "      <th>eRD Utilisation (All Items)</th>\n",
       "      <th>ODS Code</th>\n",
       "      <th>Registered Patients</th>\n",
       "      <th>EPS Items</th>\n",
       "      <th>eRD Items</th>\n",
       "      <th>All Items</th>\n",
       "      <th>EPS Utilisation</th>\n",
       "    </tr>\n",
       "  </thead>\n",
       "  <tbody>\n",
       "    <tr>\n",
       "      <th>0</th>\n",
       "      <td>0.817</td>\n",
       "      <td>0.075</td>\n",
       "      <td>0.074</td>\n",
       "      <td>0</td>\n",
       "      <td>4019</td>\n",
       "      <td>8120</td>\n",
       "      <td>607</td>\n",
       "      <td>8172</td>\n",
       "      <td>0.994</td>\n",
       "    </tr>\n",
       "    <tr>\n",
       "      <th>1</th>\n",
       "      <td>0.863</td>\n",
       "      <td>0.293</td>\n",
       "      <td>0.293</td>\n",
       "      <td>1</td>\n",
       "      <td>18288</td>\n",
       "      <td>37318</td>\n",
       "      <td>10937</td>\n",
       "      <td>37357</td>\n",
       "      <td>0.999</td>\n",
       "    </tr>\n",
       "    <tr>\n",
       "      <th>2</th>\n",
       "      <td>0.814</td>\n",
       "      <td>0.386</td>\n",
       "      <td>0.386</td>\n",
       "      <td>2</td>\n",
       "      <td>11209</td>\n",
       "      <td>18558</td>\n",
       "      <td>7163</td>\n",
       "      <td>18561</td>\n",
       "      <td>1.000</td>\n",
       "    </tr>\n",
       "    <tr>\n",
       "      <th>3</th>\n",
       "      <td>0.835</td>\n",
       "      <td>0.453</td>\n",
       "      <td>0.452</td>\n",
       "      <td>3</td>\n",
       "      <td>8032</td>\n",
       "      <td>16682</td>\n",
       "      <td>7561</td>\n",
       "      <td>16727</td>\n",
       "      <td>0.997</td>\n",
       "    </tr>\n",
       "    <tr>\n",
       "      <th>4</th>\n",
       "      <td>0.819</td>\n",
       "      <td>0.111</td>\n",
       "      <td>0.111</td>\n",
       "      <td>4</td>\n",
       "      <td>14407</td>\n",
       "      <td>30425</td>\n",
       "      <td>3378</td>\n",
       "      <td>30442</td>\n",
       "      <td>0.999</td>\n",
       "    </tr>\n",
       "    <tr>\n",
       "      <th>...</th>\n",
       "      <td>...</td>\n",
       "      <td>...</td>\n",
       "      <td>...</td>\n",
       "      <td>...</td>\n",
       "      <td>...</td>\n",
       "      <td>...</td>\n",
       "      <td>...</td>\n",
       "      <td>...</td>\n",
       "      <td>...</td>\n",
       "    </tr>\n",
       "    <tr>\n",
       "      <th>6463</th>\n",
       "      <td>0.699</td>\n",
       "      <td>0.000</td>\n",
       "      <td>0.000</td>\n",
       "      <td>6463</td>\n",
       "      <td>6245</td>\n",
       "      <td>4470</td>\n",
       "      <td>1</td>\n",
       "      <td>4588</td>\n",
       "      <td>0.974</td>\n",
       "    </tr>\n",
       "    <tr>\n",
       "      <th>6464</th>\n",
       "      <td>1.007</td>\n",
       "      <td>0.000</td>\n",
       "      <td>0.000</td>\n",
       "      <td>6464</td>\n",
       "      <td>145</td>\n",
       "      <td>5059</td>\n",
       "      <td>0</td>\n",
       "      <td>5059</td>\n",
       "      <td>1.000</td>\n",
       "    </tr>\n",
       "    <tr>\n",
       "      <th>6466</th>\n",
       "      <td>0.868</td>\n",
       "      <td>0.403</td>\n",
       "      <td>0.402</td>\n",
       "      <td>6466</td>\n",
       "      <td>7950</td>\n",
       "      <td>14411</td>\n",
       "      <td>5801</td>\n",
       "      <td>14424</td>\n",
       "      <td>0.999</td>\n",
       "    </tr>\n",
       "    <tr>\n",
       "      <th>6467</th>\n",
       "      <td>1.200</td>\n",
       "      <td>0.000</td>\n",
       "      <td>0.000</td>\n",
       "      <td>6467</td>\n",
       "      <td>5</td>\n",
       "      <td>31</td>\n",
       "      <td>0</td>\n",
       "      <td>31</td>\n",
       "      <td>1.000</td>\n",
       "    </tr>\n",
       "    <tr>\n",
       "      <th>6468</th>\n",
       "      <td>0.989</td>\n",
       "      <td>0.058</td>\n",
       "      <td>0.058</td>\n",
       "      <td>6468</td>\n",
       "      <td>364</td>\n",
       "      <td>5595</td>\n",
       "      <td>325</td>\n",
       "      <td>5596</td>\n",
       "      <td>1.000</td>\n",
       "    </tr>\n",
       "  </tbody>\n",
       "</table>\n",
       "<p>6262 rows × 9 columns</p>\n",
       "</div>"
      ],
      "text/plain": [
       "      % of patients with a nomination  eRD Utilisation (EPS Items)  \\\n",
       "0                               0.817                        0.075   \n",
       "1                               0.863                        0.293   \n",
       "2                               0.814                        0.386   \n",
       "3                               0.835                        0.453   \n",
       "4                               0.819                        0.111   \n",
       "...                               ...                          ...   \n",
       "6463                            0.699                        0.000   \n",
       "6464                            1.007                        0.000   \n",
       "6466                            0.868                        0.403   \n",
       "6467                            1.200                        0.000   \n",
       "6468                            0.989                        0.058   \n",
       "\n",
       "      eRD Utilisation (All Items)  ODS Code  Registered Patients  EPS Items  \\\n",
       "0                           0.074         0                 4019       8120   \n",
       "1                           0.293         1                18288      37318   \n",
       "2                           0.386         2                11209      18558   \n",
       "3                           0.452         3                 8032      16682   \n",
       "4                           0.111         4                14407      30425   \n",
       "...                           ...       ...                  ...        ...   \n",
       "6463                        0.000      6463                 6245       4470   \n",
       "6464                        0.000      6464                  145       5059   \n",
       "6466                        0.402      6466                 7950      14411   \n",
       "6467                        0.000      6467                    5         31   \n",
       "6468                        0.058      6468                  364       5595   \n",
       "\n",
       "      eRD Items  All Items  EPS Utilisation  \n",
       "0           607       8172            0.994  \n",
       "1         10937      37357            0.999  \n",
       "2          7163      18561            1.000  \n",
       "3          7561      16727            0.997  \n",
       "4          3378      30442            0.999  \n",
       "...         ...        ...              ...  \n",
       "6463          1       4588            0.974  \n",
       "6464          0       5059            1.000  \n",
       "6466       5801      14424            0.999  \n",
       "6467          0         31            1.000  \n",
       "6468        325       5596            1.000  \n",
       "\n",
       "[6262 rows x 9 columns]"
      ]
     },
     "execution_count": 122,
     "metadata": {},
     "output_type": "execute_result"
    }
   ],
   "source": [
    "data"
   ]
  },
  {
   "cell_type": "code",
   "execution_count": 107,
   "metadata": {},
   "outputs": [
    {
     "data": {
      "text/html": [
       "<div>\n",
       "<style scoped>\n",
       "    .dataframe tbody tr th:only-of-type {\n",
       "        vertical-align: middle;\n",
       "    }\n",
       "\n",
       "    .dataframe tbody tr th {\n",
       "        vertical-align: top;\n",
       "    }\n",
       "\n",
       "    .dataframe thead th {\n",
       "        text-align: right;\n",
       "    }\n",
       "</style>\n",
       "<table border=\"1\" class=\"dataframe\">\n",
       "  <thead>\n",
       "    <tr style=\"text-align: right;\">\n",
       "      <th></th>\n",
       "      <th>Region</th>\n",
       "      <th>Place Code</th>\n",
       "      <th>Place</th>\n",
       "      <th>ODS Code</th>\n",
       "      <th>GP Practice (ODS Code)</th>\n",
       "      <th>Registered Patients</th>\n",
       "      <th>% of patients with a nomination</th>\n",
       "      <th>EPS Items</th>\n",
       "      <th>eRD Items</th>\n",
       "      <th>All Items</th>\n",
       "      <th>EPS Utilisation</th>\n",
       "      <th>eRD Utilisation (EPS Items)</th>\n",
       "      <th>eRD Utilisation (All Items)</th>\n",
       "    </tr>\n",
       "  </thead>\n",
       "  <tbody>\n",
       "    <tr>\n",
       "      <th>0</th>\n",
       "      <td>3</td>\n",
       "      <td>74</td>\n",
       "      <td>93</td>\n",
       "      <td>0</td>\n",
       "      <td>5201</td>\n",
       "      <td>4019</td>\n",
       "      <td>0.817</td>\n",
       "      <td>8120</td>\n",
       "      <td>607</td>\n",
       "      <td>8172</td>\n",
       "      <td>0.994</td>\n",
       "      <td>0.075</td>\n",
       "      <td>0.074</td>\n",
       "    </tr>\n",
       "    <tr>\n",
       "      <th>1</th>\n",
       "      <td>3</td>\n",
       "      <td>74</td>\n",
       "      <td>93</td>\n",
       "      <td>1</td>\n",
       "      <td>4127</td>\n",
       "      <td>18288</td>\n",
       "      <td>0.863</td>\n",
       "      <td>37318</td>\n",
       "      <td>10937</td>\n",
       "      <td>37357</td>\n",
       "      <td>0.999</td>\n",
       "      <td>0.293</td>\n",
       "      <td>0.293</td>\n",
       "    </tr>\n",
       "    <tr>\n",
       "      <th>2</th>\n",
       "      <td>3</td>\n",
       "      <td>74</td>\n",
       "      <td>93</td>\n",
       "      <td>2</td>\n",
       "      <td>52</td>\n",
       "      <td>11209</td>\n",
       "      <td>0.814</td>\n",
       "      <td>18558</td>\n",
       "      <td>7163</td>\n",
       "      <td>18561</td>\n",
       "      <td>1.000</td>\n",
       "      <td>0.386</td>\n",
       "      <td>0.386</td>\n",
       "    </tr>\n",
       "    <tr>\n",
       "      <th>3</th>\n",
       "      <td>3</td>\n",
       "      <td>74</td>\n",
       "      <td>93</td>\n",
       "      <td>3</td>\n",
       "      <td>4675</td>\n",
       "      <td>8032</td>\n",
       "      <td>0.835</td>\n",
       "      <td>16682</td>\n",
       "      <td>7561</td>\n",
       "      <td>16727</td>\n",
       "      <td>0.997</td>\n",
       "      <td>0.453</td>\n",
       "      <td>0.452</td>\n",
       "    </tr>\n",
       "    <tr>\n",
       "      <th>4</th>\n",
       "      <td>3</td>\n",
       "      <td>74</td>\n",
       "      <td>93</td>\n",
       "      <td>4</td>\n",
       "      <td>5039</td>\n",
       "      <td>14407</td>\n",
       "      <td>0.819</td>\n",
       "      <td>30425</td>\n",
       "      <td>3378</td>\n",
       "      <td>30442</td>\n",
       "      <td>0.999</td>\n",
       "      <td>0.111</td>\n",
       "      <td>0.111</td>\n",
       "    </tr>\n",
       "    <tr>\n",
       "      <th>...</th>\n",
       "      <td>...</td>\n",
       "      <td>...</td>\n",
       "      <td>...</td>\n",
       "      <td>...</td>\n",
       "      <td>...</td>\n",
       "      <td>...</td>\n",
       "      <td>...</td>\n",
       "      <td>...</td>\n",
       "      <td>...</td>\n",
       "      <td>...</td>\n",
       "      <td>...</td>\n",
       "      <td>...</td>\n",
       "      <td>...</td>\n",
       "    </tr>\n",
       "    <tr>\n",
       "      <th>6463</th>\n",
       "      <td>2</td>\n",
       "      <td>70</td>\n",
       "      <td>6</td>\n",
       "      <td>6463</td>\n",
       "      <td>5339</td>\n",
       "      <td>6245</td>\n",
       "      <td>0.699</td>\n",
       "      <td>4470</td>\n",
       "      <td>1</td>\n",
       "      <td>4588</td>\n",
       "      <td>0.974</td>\n",
       "      <td>0.000</td>\n",
       "      <td>0.000</td>\n",
       "    </tr>\n",
       "    <tr>\n",
       "      <th>6464</th>\n",
       "      <td>1</td>\n",
       "      <td>79</td>\n",
       "      <td>83</td>\n",
       "      <td>6464</td>\n",
       "      <td>4214</td>\n",
       "      <td>145</td>\n",
       "      <td>1.007</td>\n",
       "      <td>5059</td>\n",
       "      <td>0</td>\n",
       "      <td>5059</td>\n",
       "      <td>1.000</td>\n",
       "      <td>0.000</td>\n",
       "      <td>0.000</td>\n",
       "    </tr>\n",
       "    <tr>\n",
       "      <th>6466</th>\n",
       "      <td>5</td>\n",
       "      <td>57</td>\n",
       "      <td>12</td>\n",
       "      <td>6466</td>\n",
       "      <td>6129</td>\n",
       "      <td>7950</td>\n",
       "      <td>0.868</td>\n",
       "      <td>14411</td>\n",
       "      <td>5801</td>\n",
       "      <td>14424</td>\n",
       "      <td>0.999</td>\n",
       "      <td>0.403</td>\n",
       "      <td>0.402</td>\n",
       "    </tr>\n",
       "    <tr>\n",
       "      <th>6467</th>\n",
       "      <td>0</td>\n",
       "      <td>49</td>\n",
       "      <td>28</td>\n",
       "      <td>6467</td>\n",
       "      <td>2454</td>\n",
       "      <td>5</td>\n",
       "      <td>1.200</td>\n",
       "      <td>31</td>\n",
       "      <td>0</td>\n",
       "      <td>31</td>\n",
       "      <td>1.000</td>\n",
       "      <td>0.000</td>\n",
       "      <td>0.000</td>\n",
       "    </tr>\n",
       "    <tr>\n",
       "      <th>6468</th>\n",
       "      <td>1</td>\n",
       "      <td>84</td>\n",
       "      <td>79</td>\n",
       "      <td>6468</td>\n",
       "      <td>4104</td>\n",
       "      <td>364</td>\n",
       "      <td>0.989</td>\n",
       "      <td>5595</td>\n",
       "      <td>325</td>\n",
       "      <td>5596</td>\n",
       "      <td>1.000</td>\n",
       "      <td>0.058</td>\n",
       "      <td>0.058</td>\n",
       "    </tr>\n",
       "  </tbody>\n",
       "</table>\n",
       "<p>6262 rows × 13 columns</p>\n",
       "</div>"
      ],
      "text/plain": [
       "      Region  Place Code  Place  ODS Code  GP Practice (ODS Code)  \\\n",
       "0          3          74     93         0                    5201   \n",
       "1          3          74     93         1                    4127   \n",
       "2          3          74     93         2                      52   \n",
       "3          3          74     93         3                    4675   \n",
       "4          3          74     93         4                    5039   \n",
       "...      ...         ...    ...       ...                     ...   \n",
       "6463       2          70      6      6463                    5339   \n",
       "6464       1          79     83      6464                    4214   \n",
       "6466       5          57     12      6466                    6129   \n",
       "6467       0          49     28      6467                    2454   \n",
       "6468       1          84     79      6468                    4104   \n",
       "\n",
       "      Registered Patients  % of patients with a nomination  EPS Items  \\\n",
       "0                    4019                            0.817       8120   \n",
       "1                   18288                            0.863      37318   \n",
       "2                   11209                            0.814      18558   \n",
       "3                    8032                            0.835      16682   \n",
       "4                   14407                            0.819      30425   \n",
       "...                   ...                              ...        ...   \n",
       "6463                 6245                            0.699       4470   \n",
       "6464                  145                            1.007       5059   \n",
       "6466                 7950                            0.868      14411   \n",
       "6467                    5                            1.200         31   \n",
       "6468                  364                            0.989       5595   \n",
       "\n",
       "      eRD Items  All Items  EPS Utilisation  eRD Utilisation (EPS Items)  \\\n",
       "0           607       8172            0.994                        0.075   \n",
       "1         10937      37357            0.999                        0.293   \n",
       "2          7163      18561            1.000                        0.386   \n",
       "3          7561      16727            0.997                        0.453   \n",
       "4          3378      30442            0.999                        0.111   \n",
       "...         ...        ...              ...                          ...   \n",
       "6463          1       4588            0.974                        0.000   \n",
       "6464          0       5059            1.000                        0.000   \n",
       "6466       5801      14424            0.999                        0.403   \n",
       "6467          0         31            1.000                        0.000   \n",
       "6468        325       5596            1.000                        0.058   \n",
       "\n",
       "      eRD Utilisation (All Items)  \n",
       "0                           0.074  \n",
       "1                           0.293  \n",
       "2                           0.386  \n",
       "3                           0.452  \n",
       "4                           0.111  \n",
       "...                           ...  \n",
       "6463                        0.000  \n",
       "6464                        0.000  \n",
       "6466                        0.402  \n",
       "6467                        0.000  \n",
       "6468                        0.058  \n",
       "\n",
       "[6262 rows x 13 columns]"
      ]
     },
     "execution_count": 107,
     "metadata": {},
     "output_type": "execute_result"
    }
   ],
   "source": [
    "df_ckecked"
   ]
  },
  {
   "cell_type": "code",
   "execution_count": null,
   "metadata": {},
   "outputs": [],
   "source": []
  },
  {
   "cell_type": "code",
   "execution_count": 138,
   "metadata": {},
   "outputs": [
    {
     "data": {
      "text/plain": [
       "(6262, 9)"
      ]
     },
     "execution_count": 138,
     "metadata": {},
     "output_type": "execute_result"
    }
   ],
   "source": [
    "data_random = data.sample(frac=1 )\n",
    "\n",
    "data_random.shape"
   ]
  },
  {
   "cell_type": "code",
   "execution_count": 139,
   "metadata": {
    "id": "zwKvALjmGbO1"
   },
   "outputs": [],
   "source": [
    "# separate the target variable\n",
    "y = data_random['EPS Utilisation']\n",
    "\n",
    "# select the features to be used in the model\n",
    "#features = ['Registered Patients', '% of patients with a nomination', 'EPS Items', 'eRD Items', 'All Items', 'eRD Utilisation (EPS Items)', 'eRD Utilisation (All Items)']\n",
    "features = ['% of patients with a nomination','eRD Utilisation (EPS Items)','eRD Utilisation (All Items)','ODS Code', 'Registered Patients','EPS Items','eRD Items','All Items']\n",
    "X = data_random[features]\n",
    "\n",
    "# split the data into training and testing sets\n",
    "X_train, X_test, y_train, y_test = train_test_split(X, y, test_size=0.2, random_state=42)\n"
   ]
  },
  {
   "cell_type": "code",
   "execution_count": null,
   "metadata": {},
   "outputs": [],
   "source": []
  },
  {
   "cell_type": "code",
   "execution_count": null,
   "metadata": {},
   "outputs": [],
   "source": []
  },
  {
   "cell_type": "code",
   "execution_count": 150,
   "metadata": {},
   "outputs": [],
   "source": [
    "def score_list(algoname,score,yPredicted,details):\n",
    "    return algoname, round(score,3), round(r2_score(y_test, yPredicted),2) , round(mean_absolute_error(y_test, yPredicted),2), round(mean_squared_error(y_test, yPredicted),2), round(np.sqrt(mean_squared_error(y_test, yPredicted)),2),details\n",
    "\n",
    "score=[]"
   ]
  },
  {
   "cell_type": "code",
   "execution_count": null,
   "metadata": {},
   "outputs": [],
   "source": []
  },
  {
   "cell_type": "code",
   "execution_count": 141,
   "metadata": {
    "colab": {
     "base_uri": "https://localhost:8080/"
    },
    "id": "2CWvrNj5Io1r",
    "outputId": "342ad863-fd81-45d0-c035-f6ec93cdfdb8"
   },
   "outputs": [
    {
     "name": "stdout",
     "output_type": "stream",
     "text": [
      "% of patients with a nomination    0\n",
      "eRD Utilisation (EPS Items)        0\n",
      "eRD Utilisation (All Items)        0\n",
      "ODS Code                           0\n",
      "Registered Patients                0\n",
      "EPS Items                          0\n",
      "eRD Items                          0\n",
      "All Items                          0\n",
      "dtype: int64\n",
      "% of patients with a nomination    0\n",
      "eRD Utilisation (EPS Items)        0\n",
      "eRD Utilisation (All Items)        0\n",
      "ODS Code                           0\n",
      "Registered Patients                0\n",
      "EPS Items                          0\n",
      "eRD Items                          0\n",
      "All Items                          0\n",
      "dtype: int64\n"
     ]
    }
   ],
   "source": [
    "import numpy as np\n",
    "from sklearn.linear_model import LinearRegression\n",
    "\n",
    "# Check for NaN and infinity values in the input data\n",
    "print(np.isnan(X_train).sum())\n",
    "print(np.isinf(X_train).sum())\n",
    "\n",
    "# Replace NaN values with the mean of the corresponding feature column\n",
    "X_train = np.nan_to_num(X_train, nan=np.nanmean(X_train, axis=0))\n",
    "\n",
    "# Check if the values are too large to be represented as float64\n",
    "if np.max(X_train) > 1e15:\n",
    "    X_train = X_train / 1e15\n",
    "\n"
   ]
  },
  {
   "cell_type": "code",
   "execution_count": 151,
   "metadata": {
    "colab": {
     "base_uri": "https://localhost:8080/"
    },
    "id": "8YRB1AoIJOh9",
    "outputId": "fc70db4c-87e9-42bf-8c18-67b8e0b55239"
   },
   "outputs": [
    {
     "name": "stdout",
     "output_type": "stream",
     "text": [
      "Predicted values:  [0.97645184 1.027702   0.968112   ... 0.80522275 1.02297953 1.00716775]\n"
     ]
    }
   ],
   "source": [
    "import numpy as np\n",
    "from sklearn.linear_model import LinearRegression\n",
    "\n",
    "# Create the Linear Regression model\n",
    "model = LinearRegression()\n",
    "\n",
    "# Fit the model to the training data\n",
    "model.fit(X_train, y_train)\n",
    "\n",
    "# Make predictions on the testing data\n",
    "X_test = np.nan_to_num(X_test, nan=np.nanmean(X_test, axis=0))\n",
    "if np.max(X_test) > 1e15:\n",
    "    X_test = X_test / 1e15\n",
    "y_pred = model.predict(X_test)\n",
    "\n",
    "# Print the predicted results\n",
    "print(\"Predicted values: \", y_pred)"
   ]
  },
  {
   "cell_type": "code",
   "execution_count": 127,
   "metadata": {},
   "outputs": [],
   "source": [
    "from sklearn.metrics import r2_score\n",
    "from sklearn.metrics import mean_squared_error,mean_absolute_error,mean_absolute_error, r2_score"
   ]
  },
  {
   "cell_type": "code",
   "execution_count": 152,
   "metadata": {},
   "outputs": [
    {
     "name": "stdout",
     "output_type": "stream",
     "text": [
      "score 0.823\n",
      "mean squared error : 0.004\n",
      "mean absolute error :0.036\n",
      "sqrt mean absolute error : 0.191\n",
      "Coefficient of determination:0.823\n"
     ]
    }
   ],
   "source": [
    "scr=model.score(X_test,y_test)\n",
    "print(f\"score {scr:.3f}\")\n",
    "print(f'mean squared error : {mean_squared_error(y_test,y_pred):.3f}')\n",
    "print(f'mean absolute error :{mean_absolute_error(y_test,y_pred):.3f}')\n",
    "print(f'sqrt mean absolute error : {np.sqrt(  mean_absolute_error(y_test,y_pred)):.3f}')\n",
    "print(f'Coefficient of determination:{ r2_score(y_test, y_pred):.3f}')\n",
    "\n",
    "score.append(score_list('LinearRegression',scr,y_pred,''))\n"
   ]
  },
  {
   "cell_type": "code",
   "execution_count": 153,
   "metadata": {
    "colab": {
     "base_uri": "https://localhost:8080/"
    },
    "id": "OdSeVfV1XfPQ",
    "outputId": "4b6675f0-7da5-45e3-f06e-7f3a5a2da605"
   },
   "outputs": [
    {
     "name": "stdout",
     "output_type": "stream",
     "text": [
      "RMSE:  0.06097880939506605\n"
     ]
    }
   ],
   "source": [
    "from sklearn.metrics import mean_squared_error\n",
    "import math\n",
    "\n",
    "rmse = math.sqrt(mean_squared_error(y_test, y_pred))\n",
    "print(\"RMSE: \", rmse)\n"
   ]
  },
  {
   "cell_type": "code",
   "execution_count": 131,
   "metadata": {
    "colab": {
     "base_uri": "https://localhost:8080/",
     "height": 279
    },
    "id": "cPJIjR6VXmie",
    "outputId": "3af7076d-a07a-447b-901f-529e0db1a716"
   },
   "outputs": [
    {
     "data": {
      "image/png": "[encoded data removed]",
      "text/plain": [
       "<Figure size 640x480 with 1 Axes>"
      ]
     },
     "metadata": {},
     "output_type": "display_data"
    }
   ],
   "source": [
    "import matplotlib.pyplot as plt\n",
    "\n",
    "plt.scatter(y_test, y_pred)\n",
    "plt.xlabel(\"True Values\")\n",
    "plt.ylabel(\"Predictions\")\n",
    "plt.show()\n"
   ]
  },
  {
   "cell_type": "code",
   "execution_count": 154,
   "metadata": {
    "colab": {
     "base_uri": "https://localhost:8080/"
    },
    "id": "IHO9u3l5bYwy",
    "outputId": "dfff5559-f15f-4ace-cee9-03281d83f0ee"
   },
   "outputs": [
    {
     "name": "stdout",
     "output_type": "stream",
     "text": [
      "Mean squared error: 0.0034559441340782124\n"
     ]
    }
   ],
   "source": [
    "from sklearn.tree import DecisionTreeRegressor\n",
    "from sklearn.metrics import mean_squared_error\n",
    "\n",
    "# define the Decision Tree model\n",
    "dt_model = DecisionTreeRegressor(random_state=42)\n",
    "\n",
    "# fit the model on the training data\n",
    "dt_model.fit(X_train, y_train)\n",
    "\n",
    "# make predictions on the test data\n",
    "y_pred_DT = dt_model.predict(X_test)\n",
    "\n",
    "# calculate the mean squared error of the predictions\n",
    "mse_DT = mean_squared_error(y_test, y_pred_DT)\n",
    "print(\"Mean squared error:\", mse_DT)\n"
   ]
  },
  {
   "cell_type": "code",
   "execution_count": 134,
   "metadata": {
    "colab": {
     "base_uri": "https://localhost:8080/"
    },
    "id": "dwrH62K8cAb8",
    "outputId": "e569a4f0-74bb-4417-ee1b-55c5a6a39ff4"
   },
   "outputs": [
    {
     "name": "stdout",
     "output_type": "stream",
     "text": [
      "Root mean squared error: 0.06379396829686527\n"
     ]
    }
   ],
   "source": [
    "from sklearn.tree import DecisionTreeRegressor\n",
    "from sklearn.metrics import mean_squared_error\n",
    "\n",
    "# define the Decision Tree model\n",
    "dt_model_dt2 = DecisionTreeRegressor(random_state=42)\n",
    "\n",
    "# fit the model on the training data\n",
    "dt_model_dt2.fit(X_train, y_train)\n",
    "\n",
    "# make predictions on the test data\n",
    "y_pred_dt2 = dt_model_dt2.predict(X_test)\n",
    "\n",
    "# calculate the mean squared error of the predictions\n",
    "mse_dt2 = mean_squared_error(y_test, y_pred_dt2)\n",
    "\n",
    "# calculate the root mean squared error of the predictions\n",
    "rmse_dt2 = np.sqrt(mse_dt2)\n",
    "\n",
    "print(\"Root mean squared error:\", rmse_dt2)\n"
   ]
  },
  {
   "cell_type": "code",
   "execution_count": 135,
   "metadata": {},
   "outputs": [
    {
     "name": "stdout",
     "output_type": "stream",
     "text": [
      "score 0.843\n",
      "mean squared error : 0.004\n",
      "mean absolute error :0.029\n",
      "sqrt mean absolute error : 0.171\n",
      "Coefficient of determination:0.843\n"
     ]
    }
   ],
   "source": [
    "scr_dt2=dt_model_dt2.score(X_test,y_test)\n",
    "print(f\"score {scr_dt2:.3f}\")\n",
    "print(f'mean squared error : {mean_squared_error(y_test,y_pred_dt2):.3f}')\n",
    "print(f'mean absolute error :{mean_absolute_error(y_test,y_pred_dt2):.3f}')\n",
    "print(f'sqrt mean absolute error : {np.sqrt(  mean_absolute_error(y_test,y_pred_dt2)):.3f}')\n",
    "print(f'Coefficient of determination:{ r2_score(y_test, y_pred_dt2):.3f}')\n",
    "\n"
   ]
  },
  {
   "cell_type": "code",
   "execution_count": 156,
   "metadata": {
    "colab": {
     "base_uri": "https://localhost:8080/"
    },
    "id": "T4Cu_k1NgXOl",
    "outputId": "134de9ea-7321-4c66-b771-080f963e6c16"
   },
   "outputs": [
    {
     "name": "stdout",
     "output_type": "stream",
     "text": [
      "Root mean squared error: 0.04452698772647455\n"
     ]
    }
   ],
   "source": [
    "from sklearn.ensemble import RandomForestRegressor\n",
    "from sklearn.metrics import mean_squared_error\n",
    "\n",
    "# create a random forest model with 100 trees\n",
    "rf_model = RandomForestRegressor(n_estimators=100, random_state=42)\n",
    "\n",
    "# fit the model on the training data\n",
    "rf_model.fit(X_train, y_train)\n",
    "\n",
    "# make predictions on the test data\n",
    "y_pred_RF = rf_model.predict(X_test)\n",
    "\n",
    "# calculate the mean squared error of the predictions\n",
    "mse_RF = mean_squared_error(y_test, y_pred_RF)\n",
    "\n",
    "# calculate the root mean squared error of the predictions\n",
    "rmse_RF = np.sqrt(mse_RF)\n",
    "\n",
    "print(\"Root mean squared error:\", rmse_RF)\n"
   ]
  },
  {
   "cell_type": "code",
   "execution_count": 157,
   "metadata": {},
   "outputs": [
    {
     "name": "stdout",
     "output_type": "stream",
     "text": [
      "score 0.905\n",
      "mean squared error : 0.002\n",
      "mean absolute error :0.023\n",
      "sqrt mean absolute error : 0.153\n",
      "Coefficient of determination:0.905\n"
     ]
    }
   ],
   "source": [
    "scr_RF=rf_model.score(X_test,y_test)\n",
    "print(f\"score {scr_RF:.3f}\")\n",
    "print(f'mean squared error : {mean_squared_error(y_test,y_pred_RF):.3f}')\n",
    "print(f'mean absolute error :{mean_absolute_error(y_test,y_pred_RF):.3f}')\n",
    "print(f'sqrt mean absolute error : {np.sqrt(  mean_absolute_error(y_test,y_pred_RF)):.3f}')\n",
    "print(f'Coefficient of determination:{ r2_score(y_test, y_pred_RF):.3f}')\n",
    "\n",
    "score.append(score_list('RandomForestRegressor',scr_RF,y_pred_RF,''))\n"
   ]
  },
  {
   "cell_type": "markdown",
   "metadata": {},
   "source": [
    "# Compare the results"
   ]
  },
  {
   "cell_type": "code",
   "execution_count": 160,
   "metadata": {},
   "outputs": [
    {
     "data": {
      "text/html": [
       "<div>\n",
       "<style scoped>\n",
       "    .dataframe tbody tr th:only-of-type {\n",
       "        vertical-align: middle;\n",
       "    }\n",
       "\n",
       "    .dataframe tbody tr th {\n",
       "        vertical-align: top;\n",
       "    }\n",
       "\n",
       "    .dataframe thead th {\n",
       "        text-align: right;\n",
       "    }\n",
       "</style>\n",
       "<table border=\"1\" class=\"dataframe\">\n",
       "  <thead>\n",
       "    <tr style=\"text-align: right;\">\n",
       "      <th></th>\n",
       "      <th>Model</th>\n",
       "      <th>Score</th>\n",
       "      <th>r2_score</th>\n",
       "      <th>MAE</th>\n",
       "      <th>MSE</th>\n",
       "      <th>RMSE</th>\n",
       "      <th>Details</th>\n",
       "    </tr>\n",
       "  </thead>\n",
       "  <tbody>\n",
       "    <tr>\n",
       "      <th>0</th>\n",
       "      <td>LinearRegression</td>\n",
       "      <td>0.823</td>\n",
       "      <td>0.82</td>\n",
       "      <td>0.04</td>\n",
       "      <td>0.0</td>\n",
       "      <td>0.06</td>\n",
       "      <td></td>\n",
       "    </tr>\n",
       "    <tr>\n",
       "      <th>1</th>\n",
       "      <td>DecisionTreeRegressor</td>\n",
       "      <td>0.835</td>\n",
       "      <td>0.84</td>\n",
       "      <td>0.03</td>\n",
       "      <td>0.0</td>\n",
       "      <td>0.06</td>\n",
       "      <td></td>\n",
       "    </tr>\n",
       "    <tr>\n",
       "      <th>2</th>\n",
       "      <td>RandomForestRegressor</td>\n",
       "      <td>0.905</td>\n",
       "      <td>0.91</td>\n",
       "      <td>0.02</td>\n",
       "      <td>0.0</td>\n",
       "      <td>0.04</td>\n",
       "      <td></td>\n",
       "    </tr>\n",
       "  </tbody>\n",
       "</table>\n",
       "</div>"
      ],
      "text/plain": [
       "                   Model  Score  r2_score   MAE  MSE  RMSE Details\n",
       "0       LinearRegression  0.823      0.82  0.04  0.0  0.06        \n",
       "1  DecisionTreeRegressor  0.835      0.84  0.03  0.0  0.06        \n",
       "2  RandomForestRegressor  0.905      0.91  0.02  0.0  0.04        "
      ]
     },
     "execution_count": 160,
     "metadata": {},
     "output_type": "execute_result"
    }
   ],
   "source": [
    "pd.DataFrame(score, columns=['Model', 'Score','r2_score', 'MAE', 'MSE', 'RMSE','Details'])"
   ]
  },
  {
   "cell_type": "code",
   "execution_count": 161,
   "metadata": {},
   "outputs": [
    {
     "data": {
      "text/plain": [
       "<AxesSubplot: xlabel='Model'>"
      ]
     },
     "execution_count": 161,
     "metadata": {},
     "output_type": "execute_result"
    },
    {
     "data": {
      "image/png": "[encoded data removed]",
      "text/plain": [
       "<Figure size 1800x1000 with 1 Axes>"
      ]
     },
     "metadata": {},
     "output_type": "display_data"
    }
   ],
   "source": [
    "pd.DataFrame(score\n",
    "             , columns=['Model', 'Score','r2_score'\n",
    "                        , 'MAE', 'MSE', 'RMSE','details']).plot(x=\"Model\"\n",
    "                                                                       , y=[\"Score\", \"MAE\"], kind=\"bar\", figsize=(18,10))"
   ]
  },
  {
   "cell_type": "code",
   "execution_count": null,
   "metadata": {},
   "outputs": [],
   "source": []
  },
  {
   "cell_type": "code",
   "execution_count": null,
   "metadata": {},
   "outputs": [],
   "source": []
  }
 ],
 "metadata": {
  "colab": {
   "provenance": [],
   "toc_visible": true
  },
  "kernelspec": {
   "display_name": "Python 3 (ipykernel)",
   "language": "python",
   "name": "python3"
  },
  "language_info": {
   "codemirror_mode": {
    "name": "ipython",
    "version": 3
   },
   "file_extension": ".py",
   "mimetype": "text/x-python",
   "name": "python",
   "nbconvert_exporter": "python",
   "pygments_lexer": "ipython3",
   "version": "3.9.13"
  }
 },
 "nbformat": 4,
 "nbformat_minor": 1
}
